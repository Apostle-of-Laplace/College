{
 "cells": [
  {
   "cell_type": "markdown",
   "metadata": {},
   "source": [
    "# Week 6 Studio\n",
    "\n",
    "In this week's studio we're going to do lots and lots of t-tests.  It's all plug and chug, the only nuance is deciding how we calculate our p-value based on our alternative hypothesis."
   ]
  },
  {
   "cell_type": "code",
   "execution_count": null,
   "metadata": {},
   "outputs": [],
   "source": [
    "import numpy as np\n",
    "import pandas as pd\n",
    "from matplotlib import pyplot as plt\n",
    "from scipy import stats as st"
   ]
  },
  {
   "cell_type": "markdown",
   "metadata": {},
   "source": [
    "### Two-Tailed t-Test\n",
    "\n",
    "In this section we will explore the two-tailed t-test.  The two-tailed test will evaluate if the mean is different than a hypothetical value.\n",
    "\n",
    "A t-test is performed when we don't know the population standard deviation.  "
   ]
  },
  {
   "cell_type": "markdown",
   "metadata": {},
   "source": [
    "#### Central Limit Theorem\n",
    "\n",
    "The central limit theorem is the foundation of hypothesis testing.  We know that the sample means are normally distributed and that the spread of the sample mean distribution is determined by the standard error.  We can calculate our $t$ statistic using the sample mean, a hypothetical population mean, and the standard error of the mean.  Then we can evaluate the cumulative probability of getting that sample if the hypothetical value is true.  This cumulative probability is called a *p-value* and it will tell us the likelihood that our hypothesis was correct."
   ]
  },
  {
   "cell_type": "markdown",
   "metadata": {},
   "source": [
    "#### p-value Visualization\n",
    "\n",
    "Before we begin our analysis, we'll make a quick function that will help us visualize the p-value.  We simply take the code from our exploration of cumulative probability distribution and package it in a function which takes the t-value as an input."
   ]
  },
  {
   "cell_type": "code",
   "execution_count": null,
   "metadata": {},
   "outputs": [],
   "source": [
    "def t_cdf_two_tailed(t,nu):\n",
    "    # make the figure \n",
    "    plt.figure(figsize=(10,6))\n",
    "    \n",
    "    # get right and left t\n",
    "    t = abs(t)\n",
    "    t_right = t\n",
    "    t_left = -t\n",
    "\n",
    "    # outcome space\n",
    "    x = np.linspace(-5,5,num=101)\n",
    "\n",
    "    # probability distribution\n",
    "    f = st.t.pdf(x,nu)\n",
    "    plt.plot(x,f)\n",
    "\n",
    "    # fill in cummulative region\n",
    "    plt.fill_between(x,f,color=\"C0\",alpha=0.2)\n",
    "\n",
    "    # plot the left side\n",
    "    x_left = np.linspace(-5,t_left,num=101)\n",
    "    f_left= st.t.pdf(x_left,nu)\n",
    "    plt.fill_between(x_left,f_left,color=\"red\")\n",
    "\n",
    "    # plot the right side\n",
    "    x_right = np.linspace(t_right,5,num=101)\n",
    "    f_right = st.t.pdf(x_right,nu)\n",
    "    plt.fill_between(x_right,f_right,color=\"red\")\n",
    "\n",
    "    # format plot\n",
    "    plt.xlabel(\"Outcome\",fontsize=18)\n",
    "    plt.ylim(0,1)\n",
    "    plt.show()"
   ]
  },
  {
   "cell_type": "markdown",
   "metadata": {},
   "source": [
    "Now we can test our visualization."
   ]
  },
  {
   "cell_type": "code",
   "execution_count": null,
   "metadata": {},
   "outputs": [],
   "source": [
    "t = 2\n",
    "nu = 25\n",
    "\n",
    "t_cdf_two_tailed(t,nu)"
   ]
  },
  {
   "cell_type": "markdown",
   "metadata": {},
   "source": [
    "## Two-Tailed Test\n",
    "\n",
    "What happens if we want to test whether the population mean is higher than our null hypothesis?  In that case we use a right-tailed test.  We simply calculate the cumulative probability of landing at or above our t value.\n",
    "\n",
    "Suppose we work for a chemical company on the filling process.  We are testing some new equipment so we don't have a great estimate for the mean, but we have some documentation from the manufacturer which tells us the standard deviation. Our goal is to get 500 grams of chemical into each container.  We know that the standard deviation is 5 grams.  We take 10 measurements and we would like to know if our population mean is less than 500 grams.\n",
    "\n",
    "First we set up our null hypthesis.\n",
    "$$\\Large H_0: \\mu=500g$$\n",
    "\n",
    "The null hypothesis is the default assumption.  If our data contradicts this assumption then we reject this default hypthesis in favor of the alternative hypothesis.  In this case the alternative hypothesis is:\n",
    "\n",
    "$$ \\Large H_a: \\mu \\neq 500g$$\n",
    "\n",
    "Now that we have our null and alternative hypothesis, we can follow some basic steps to test and see if it is likely that our null hypothesis is correct.\n",
    "\n",
    "1. Calculate sample mean\n",
    "2. Calculate t-value using the sample mean, the standard error of the mean (using sample standard deviation), and the population mean proposed by the null hypthesis.\n",
    "3. Calculate the cumulative probability above that t-value or below the negative t-value.  This will tell us the likelihood of getting a result at least as extreme as our sample if the null hypthesis was true.\n",
    "4. Compare this cumulative probability to our required level of significance.\n",
    "\n",
    "Basically, the p-value is going to tell us how likely it is that the null hypothesis is true based on the sample. \n",
    "\n",
    "For the t-statistic in step (2), we use the form which describes the sample distirbution.\n",
    "\n",
    "$$\\Large t = \\frac{\\bar{x} - \\mu}{\\frac{s}{\\sqrt{n}}}$$\n",
    "\n",
    "We'll use the same samples as before so we can see that we get the opposite results (except in the last case).\n",
    "\n",
    "When we calculate the cumulative probability we have a couple options.  We know that we are distributing $\\alpha$ on both sides, so we need to not only check the t-value that we actually calculate, but also the t-value that is just as extreme on the other side.  \n",
    "\n",
    "Since the distribution is symmetrical we have a few options for how we actually perform the calculation.\n",
    "\n",
    "1. Calculate both high and low values of t, evaluate the CDF for both values and then add them together.  Compare to $\\alpha$.\n",
    "\n",
    "2. Only check the low side.  We can do this by taking the absolute value of the t-value that we calculate and then multiplying by -1.  Then we calculate the CDF up to that value and compare to $\\alpha/2$.\n",
    "\n",
    "3. Only check the high side.  We can do this by taking the absolute value of the t-value that we calculate.  Then we calculate the CDF above that value and compare to $\\alpha/2$.\n",
    "\n",
    "4. Calculate the value on the low side as in (2) but then multiply the p-value by 2 since we know there will be an equal amount on the high side.  Then we compare to $\\alpha$\n",
    "\n",
    "There is no new syntax in this process.  Refer to previous studio notebooks for syntax.\n",
    "\n",
    "First write a function which accepts a list of numbers and an estimate for the population mean and returns the p-value, t-statistic, and degrees of freedom."
   ]
  },
  {
   "cell_type": "code",
   "execution_count": null,
   "metadata": {},
   "outputs": [],
   "source": [
    "def two_tailed_t_test(sample,mu_0):\n",
    "    \"\"\"\n",
    "    This function calculates a p-value using a \n",
    "    two-tailed z-test for the population mean.  \n",
    "    \n",
    "    It takes three values as input.\n",
    "    \n",
    "    sample: a list of numbers\n",
    "    mu_0: The value of the null hyothesis for population mean\n",
    "    \n",
    "    \"\"\" \n",
    "    # sample mean\n",
    "    \n",
    "\n",
    "    # sample standard deviation\n",
    "    \n",
    "    \n",
    "    #degree of freedom\n",
    "    \n",
    "\n",
    "    # t-value for sample mean distribution \n",
    "    \n",
    "\n",
    "    # choose one of the methods above to\n",
    "    # calculate t and p\n",
    "    \n",
    "    \n",
    "    print(\"The p-value is: {}\".format(p))\n",
    "    \n",
    "    return t,p,nu"
   ]
  },
  {
   "cell_type": "markdown",
   "metadata": {},
   "source": [
    "### Low Sample\n",
    "\n",
    "Next let's test the function on a sample."
   ]
  },
  {
   "cell_type": "code",
   "execution_count": null,
   "metadata": {},
   "outputs": [],
   "source": [
    "sample = [487, 495, 482, 474, 489, 499, 492, 485, 483, 497]"
   ]
  },
  {
   "cell_type": "markdown",
   "metadata": {},
   "source": [
    "Almost all of our measurments are less than 500, so intuitively we know that it is unlikely to get 10 measurements in a row that are less than the mean.  Still we want to quantify our results."
   ]
  },
  {
   "cell_type": "markdown",
   "metadata": {},
   "source": [
    "Now we will calculate the cummulative probabilty of landing on or above this t-value on the high side ***or*** on or below this value on the low side. \n",
    "\n",
    "Fortunately the t-distibution is symmetrical, so we can simply check the absolute value against the high side.  However we have to remember that our significance level is split between the two tails.  If we chose option 2 or 3 above for then we will reject the null hypthesis is our p-value is less than or equal to half of our level of significance, $\\alpha/2$.  If we chose option 1 or 4 then we compare to $\\alpha$."
   ]
  },
  {
   "cell_type": "code",
   "execution_count": null,
   "metadata": {},
   "outputs": [],
   "source": [
    "t,p,nu = two_tailed_t_test(sample,500)"
   ]
  },
  {
   "cell_type": "markdown",
   "metadata": {},
   "source": [
    "This is a fairly low probability so we reject the null hypthesis in favor of the alternative hypthesis.  Let's look at the distribution."
   ]
  },
  {
   "cell_type": "code",
   "execution_count": null,
   "metadata": {},
   "outputs": [],
   "source": [
    "t_cdf_two_tailed(t,nu)"
   ]
  },
  {
   "cell_type": "markdown",
   "metadata": {},
   "source": [
    "#### High Sample\n",
    "\n",
    "Now let's look and see what happens when we have a sample which is above the value of our null hypthesis."
   ]
  },
  {
   "cell_type": "code",
   "execution_count": null,
   "metadata": {},
   "outputs": [],
   "source": [
    "sample = [504, 510, 502, 495, 513, 527, 503, 504, 519, 521]"
   ]
  },
  {
   "cell_type": "markdown",
   "metadata": {},
   "source": [
    "Almost all of our measurments are greater than 500, so intuitively we know that it is unlikely to get 10 measurements in a row that are greater than the mean.  \n"
   ]
  },
  {
   "cell_type": "markdown",
   "metadata": {},
   "source": [
    "Now we will calculate the cummulative probabilty of landing on or above this t-value, or on or below the negative t-value."
   ]
  },
  {
   "cell_type": "code",
   "execution_count": null,
   "metadata": {},
   "outputs": [],
   "source": [
    "t,p,nu = two_tailed_t_test(sample,500)"
   ]
  },
  {
   "cell_type": "markdown",
   "metadata": {},
   "source": [
    "This is a low probability so we can reject $H_0$ in favor of $H_a$, that the mean is not equal to 500g."
   ]
  },
  {
   "cell_type": "code",
   "execution_count": null,
   "metadata": {},
   "outputs": [],
   "source": [
    "t_cdf_two_tailed(t,nu)"
   ]
  },
  {
   "cell_type": "markdown",
   "metadata": {},
   "source": [
    "#### Ambiguous Sample #1\n",
    "\n",
    "Now let's look at some more ambiguous samples."
   ]
  },
  {
   "cell_type": "code",
   "execution_count": null,
   "metadata": {},
   "outputs": [],
   "source": [
    "sample = [487, 495, 503, 482, 519, 474, 489, 499, 504, 521]"
   ]
  },
  {
   "cell_type": "markdown",
   "metadata": {},
   "source": [
    "In this case it is not as obvious because we have some values above and below the null hypothesis.  Let's run the same test and see what our p-value is."
   ]
  },
  {
   "cell_type": "markdown",
   "metadata": {},
   "source": [
    "Now we will calculate the cummulative probabilty of landing on or above this t-value, or on or below the negative t-value."
   ]
  },
  {
   "cell_type": "code",
   "execution_count": null,
   "metadata": {},
   "outputs": [],
   "source": [
    "t,p,nu = two_tailed_t_test(sample,500)\n"
   ]
  },
  {
   "cell_type": "markdown",
   "metadata": {},
   "source": [
    "This p-value indicates that there is a 28.4% chance of getting this particular sample if the null hypothesis is true. "
   ]
  },
  {
   "cell_type": "code",
   "execution_count": null,
   "metadata": {},
   "outputs": [],
   "source": [
    "t_cdf_two_tailed(t,nu)"
   ]
  },
  {
   "cell_type": "markdown",
   "metadata": {},
   "source": [
    "#### Ambiguous Sample #2\n",
    "\n",
    "Let's look at a sample with a few more \"high\" values."
   ]
  },
  {
   "cell_type": "code",
   "execution_count": null,
   "metadata": {},
   "outputs": [],
   "source": [
    "sample = [497, 495, 500, 482, 499, 474, 499, 499, 500, 489]"
   ]
  },
  {
   "cell_type": "markdown",
   "metadata": {},
   "source": [
    "Now we will calculate the cummulative probabilty of landing on or above this t-value, or on or below the negative t-value."
   ]
  },
  {
   "cell_type": "code",
   "execution_count": null,
   "metadata": {},
   "outputs": [],
   "source": [
    "t,p,nu = two_tailed_t_test(sample,500)\n"
   ]
  },
  {
   "cell_type": "markdown",
   "metadata": {},
   "source": [
    "Now the p-value is saying that there is a 4.2% chance that we got this particular sample assuming that the null hypthesis is true.  However since our region of significance is split between two tails, we need a p-value of less than $\\alpha/2$ to reject the null hypothesis.  If $\\alpha=0.05$ for a 95% confident rejection, we cannot reject the null hypothesis."
   ]
  },
  {
   "cell_type": "code",
   "execution_count": null,
   "metadata": {},
   "outputs": [],
   "source": [
    "t_cdf_two_tailed(t,nu)"
   ]
  },
  {
   "cell_type": "markdown",
   "metadata": {},
   "source": [
    "# Two Sample t-Test for Population means (Left-tail)\n",
    "\n",
    "Up to this point we have only compared a single sample to some hypothetical population.  However when running experiments we will often want to directly compare two samples rather than comparing them each to a hypothetcal value for $\\mu$.  We won't know the population statistics so we have to use a t-test.\n",
    "\n",
    "For a basic left-tailed t-test to see if the population means are different, our hypothesis will have this form.\n",
    "\n",
    "$$ \\Large H_0: \\mu_1 = \\mu_2$$\n",
    "\n",
    "$$ \\Large H_a: \\mu_1 < \\mu_2 $$\n",
    "\n",
    "We will perform a left-tailed test to determine if there is sufficient evidence to conclude that the mean of poulation #1 is less than the mean of population #2.\n",
    "\n",
    "Our t-statistic will be calculated as:\n",
    "\n",
    "$$\\Large t = \\frac{\\bar{x}_1 - \\bar{x}_2}{\\sqrt{\\frac{s_1^2}{n_1} + \\frac{s_2^2}{n_2}}} $$\n",
    "\n",
    "and our t-distribution will have degree of freedom of\n",
    "\n",
    "$$\\Large \\nu = n_1 + n_2 -2 $$\n",
    "\n",
    "Once we have our t-statistic, we calculate our p-value exactly as we would with a single sample t-test, by evaluating the cummulative probability of getting a result at least that extreme.\n",
    "\n",
    "Let's consider our filling process again.  Although this time, instead of proposing a hypothetical value for the population mean we will simply compare two samples.\n",
    "\n",
    "We will compare a function based on the equations above to the built in method in **scipy.stats**."
   ]
  },
  {
   "cell_type": "markdown",
   "metadata": {},
   "source": [
    "First let's write our own function to compare two samples.  We know longer need to input a hypothetical value for $\\mu$.  We're simply testing to see if it's likely that $\\mu_1$ is less than $\\mu_2$."
   ]
  },
  {
   "cell_type": "code",
   "execution_count": null,
   "metadata": {},
   "outputs": [],
   "source": [
    "def two_sample_t_test_left(sample_1,sample_2):\n",
    "    \"\"\"\n",
    "    This function performs compares the means of two\n",
    "    independent samples using a left-tailed t-test.\n",
    "    \n",
    "    It takes two samples as input.\n",
    "    \"\"\"\n",
    "    \n",
    "    # calculate the mean of each sample\n",
    "    \n",
    "    \n",
    "    # calculate the standard deviation of each \n",
    "    # sample using (n-1) in the denominator\n",
    "    \n",
    "    \n",
    "    # get number of measurements in each sample\n",
    "    \n",
    "    \n",
    "    # calculate the t-statistic\n",
    "    \n",
    "    \n",
    "    # calculate degree of freedom\n",
    "    \n",
    "    \n",
    "    # calculate the cumulative probability of\n",
    "    # landing on or below this t-value\n",
    "                     \n",
    "    print(\"p-value: {}\".format(p))\n",
    "    \n",
    "    return t,p\n",
    "    "
   ]
  },
  {
   "cell_type": "markdown",
   "metadata": {},
   "source": [
    "We'll consider four samples from our fill process."
   ]
  },
  {
   "cell_type": "code",
   "execution_count": null,
   "metadata": {},
   "outputs": [],
   "source": [
    "sample_1 = [487, 495, 482, 474, 489, 499, 492, 485, 483, 497]\n",
    "\n",
    "sample_2 = [504, 510, 502, 495, 513, 527, 503, 504, 519, 521]\n",
    "\n",
    "sample_3 = [504, 489, 502, 495, 513, 507, 503, 475, 510, 492]\n",
    "\n",
    "sample_4 = [513, 495, 503, 497, 500, 494, 501, 499, 504, 511]"
   ]
  },
  {
   "cell_type": "markdown",
   "metadata": {},
   "source": [
    "First we'll calculate the p-value using our custom function."
   ]
  },
  {
   "cell_type": "code",
   "execution_count": null,
   "metadata": {},
   "outputs": [],
   "source": [
    "t,p = two_sample_t_test_left(sample_4,sample_3)"
   ]
  },
  {
   "cell_type": "markdown",
   "metadata": {},
   "source": [
    "We can simply change the input values to the functions to compare the samples."
   ]
  },
  {
   "cell_type": "markdown",
   "metadata": {},
   "source": [
    "# Two Sample t-Test for Population means (Right-tail)\n",
    "\n",
    "When running experiments we will often want to directly compare two samples rather than comparing them each to a hypothetcal value for $\\mu$.  We won't know the population statistics so we have to use a t-test.\n",
    "\n",
    "For a basic right-tailed t-test to see if the population means are different, our hypothesis will have this form.\n",
    "\n",
    "$$ \\Large H_0: \\mu_1 = \\mu_2$$\n",
    "\n",
    "$$ \\Large H_a: \\mu_1 > \\mu_2 $$\n",
    "\n",
    "We will perform a right-tailed test to determine if there is sufficient evidence to conclude that the mean of population #1 is greater than the mean of population #2.\n",
    "\n",
    "Our t-statistic will be calculated as:\n",
    "\n",
    "$$\\Large t = \\frac{\\bar{x}_1 - \\bar{x}_2}{\\sqrt{\\frac{s_1^2}{n_1} + \\frac{s_2^2}{n_2}}} $$\n",
    "\n",
    "and our t-distribution will have degree of freedom of\n",
    "\n",
    "$$\\Large \\nu = n_1 + n_2 -2 $$\n",
    "\n",
    "Once we have our t-statistic, we calculate our p-value exactly as we would with a single sample t-test, by evaluating the cummulative probability of getting a result at least that extreme.\n",
    "\n",
    "Let's consider our filling process again.  Although this time, instead of proposing a hypothetical value for the population mean we will simply compare two samples."
   ]
  },
  {
   "cell_type": "markdown",
   "metadata": {},
   "source": [
    "First let's write our own function to compare two samples."
   ]
  },
  {
   "cell_type": "code",
   "execution_count": null,
   "metadata": {},
   "outputs": [],
   "source": [
    "def two_sample_t_test_right(sample_1,sample_2):\n",
    "    \"\"\"\n",
    "    This function performs compares the means of two\n",
    "    independent samples using a left-tailed t-test.\n",
    "    \n",
    "    It takes two samples as input.\n",
    "    \"\"\"\n",
    "    \n",
    "    # calculate the mean of each sample\n",
    "    \n",
    "    \n",
    "    # calculate the standard deviation of each \n",
    "    # sample using (n-1) in the denominator\n",
    "    \n",
    "    \n",
    "    # get number of measurements in each sample\n",
    "    \n",
    "    \n",
    "    \n",
    "    # calculate the t-statistic\n",
    "    \n",
    "    \n",
    "    # calculate degree of freedom\n",
    "    \n",
    "    \n",
    "    # calculate the cumulative probability of\n",
    "    # landing on or above this t-value\n",
    "                     \n",
    "    print(\"p-value: {}\".format(p))\n",
    "    \n",
    "    return t,p\n",
    "    "
   ]
  },
  {
   "cell_type": "markdown",
   "metadata": {},
   "source": [
    "We'll consider four samples from our fill process."
   ]
  },
  {
   "cell_type": "code",
   "execution_count": null,
   "metadata": {},
   "outputs": [],
   "source": [
    "sample_1 = [487, 495, 482, 474, 489, 499, 492, 485, 483, 497]\n",
    "\n",
    "sample_2 = [504, 510, 502, 495, 513, 527, 503, 504, 519, 521]\n",
    "\n",
    "sample_3 = [504, 489, 502, 495, 513, 507, 503, 475, 510, 492]\n",
    "\n",
    "sample_4 = [513, 495, 503, 497, 500, 494, 501, 499, 504, 511]"
   ]
  },
  {
   "cell_type": "markdown",
   "metadata": {},
   "source": [
    "First we'll calculate the p-value using our custom function."
   ]
  },
  {
   "cell_type": "code",
   "execution_count": null,
   "metadata": {},
   "outputs": [],
   "source": [
    "t,p = two_sample_t_test_right(sample_2,sample_1)"
   ]
  },
  {
   "cell_type": "markdown",
   "metadata": {},
   "source": [
    "# Two Sample t-Test for Population means (Two-tail)\n",
    "\n",
    "When running experiments we will often want to directly compare two samples rather than comparing them each to a hypothetcal value for $\\mu$.  We won't know the population statistics so we have to use a t-test.\n",
    "\n",
    "For a basic test to see if the means are different, our hypothesis will have this form.\n",
    "\n",
    "$$ \\Large H_0: \\mu_1 = \\mu_2$$\n",
    "\n",
    "$$ \\Large H_a: \\mu_1 \\neq \\mu_2 $$\n",
    "\n",
    "We will perform a two-tailed test to determine if there is sufficient evidence to conclude that the samples come from populations with different means.\n",
    "\n",
    "Our t-statistic will be calculated as:\n",
    "\n",
    "$$\\Large t = \\frac{\\bar{x}_1 - \\bar{x}_2}{\\sqrt{\\frac{s_1^2}{n_1} + \\frac{s_2^2}{n_2}}} $$\n",
    "\n",
    "and our t-distribution will have degree of freedom of\n",
    "\n",
    "$$\\Large \\nu = n_1 + n_2 -2 $$\n",
    "\n",
    "Once we have our t-statistic, we calculate our p-value exactly as we would with a single sample t-test, by evaluating the cummulative probability of getting a result at least that extreme.\n",
    "\n",
    "Let's consider our filling process again.  Although this time, instead of proposing a hypothetical value for the population mean we will simply compare two samples.\n",
    "\n",
    "When we calculate the cumulative probability we have a couple options.  We know that we are distributing $\\alpha$ on both sides, so we need to not only check the t-value that we actually calculate, but also the t-value that is just as extreme on the other side.  \n",
    "\n",
    "Since the distribution is symmetrical we have a few options for how we actually perform the calculation.\n",
    "\n",
    "1. Calculate both high and low values of t, evaluate the CDF for both values and then add them together.  Compare to $\\alpha$.\n",
    "\n",
    "2. Only check the low side.  We can do this by taking the absolute value of the t-value that we calculate and then multiplying by -1.  Then we calculate the CDF up to that value and compare to $\\alpha/2$.\n",
    "\n",
    "3. Only check the high side.  We can do this by taking the absolute value of the t-value that we calculate.  Then we calculate the CDF above that value and compare to $\\alpha/2$.\n",
    "\n",
    "4. Calculate the value on the low side as in (2) but then multiply the p-value by 2 since we know there will be an equal amount on the high side.  Then we compare to $\\alpha$"
   ]
  },
  {
   "cell_type": "code",
   "execution_count": null,
   "metadata": {},
   "outputs": [],
   "source": [
    "def two_sample_t_test(sample_1,sample_2):\n",
    "    \"\"\"\n",
    "    This function performs compares the means of two\n",
    "    independent samples using a two-tailed t-test.\n",
    "    \n",
    "    It takes two samples as input.\n",
    "    \"\"\"\n",
    "    \n",
    "    # calculate the mean of each sample\n",
    "    \n",
    "    \n",
    "    # calculate the standard deviation of each \n",
    "    # sample using (n-1) in the denominator\n",
    "    \n",
    "    \n",
    "    # get number of measurements in each sample\n",
    "    \n",
    "    \n",
    "    # calculate the t-statistic\n",
    "    \n",
    "    \n",
    "    # calculate degree of freedom\n",
    "    \n",
    "    \n",
    "    # choose a method from above for calculating\n",
    "    # the t-statistic and p-value\n",
    "    \n",
    "    print(\"p-value: {}\".format(p))\n",
    "    \n",
    "    return t,p\n",
    "    "
   ]
  },
  {
   "cell_type": "markdown",
   "metadata": {},
   "source": [
    "Instead of using the same old lists, let's make some new data that's easy to manipulate.  "
   ]
  },
  {
   "cell_type": "code",
   "execution_count": null,
   "metadata": {},
   "outputs": [],
   "source": [
    "mu_1 = 25\n",
    "sigma_1 = 3\n",
    "sample_1 = sigma_1*np.random.randn(5) + mu_1\n",
    "\n",
    "mu_2 = 20\n",
    "sigma_2 = 4\n",
    "sample_2 = sigma_2*np.random.randn(5) + mu_2\n",
    "\n",
    "print(sample_1)\n",
    "print(sample_2)"
   ]
  },
  {
   "cell_type": "markdown",
   "metadata": {},
   "source": [
    "Now apply the two sample, two-tailed test.  Experiment with values for both $\\sigma$'s and both $\\mu$'s until you understand how the influence the outcome.  What happens as the $\\sigma$'s get learger or smaller?  Does that make sense?  How about if the $\\mu$'s get closer togther or farther apart?  "
   ]
  },
  {
   "cell_type": "code",
   "execution_count": null,
   "metadata": {},
   "outputs": [],
   "source": [
    "t,p = two_sample_t_test(sample_1,sample_2)"
   ]
  },
  {
   "cell_type": "markdown",
   "metadata": {},
   "source": [
    "# Penguins!"
   ]
  },
  {
   "cell_type": "markdown",
   "metadata": {},
   "source": [
    "Now that you're acquainted with two sample tests you should apply them to the penguin data set.  You already know how to isolate species and get samples from the DataFrame.  Perform at least 3 two-sample tests on different factors.  Use only 5 measurements from each species as a sample.  Here are some suggestions\n",
    "\n",
    "1. Show that the mass of one species is different than another species.  How will you write your hypotheses?\n",
    "2. Show that the culmen length of one species is less than another. How will you write your hypotheses?\n",
    "3. Show that the flipper length of one species is greater than another. How will you write your hypotheses?\n",
    "\n",
    "Run each test several times to gain some intution about how the sample influences the outcome.  Document your process with markdown cells.\n",
    "\n",
    "If you're feeling rowdy, show that there is a difference in body mass between Males and Females within one species. How will you isolate the data?"
   ]
  },
  {
   "cell_type": "code",
   "execution_count": null,
   "metadata": {},
   "outputs": [],
   "source": []
  },
  {
   "cell_type": "code",
   "execution_count": null,
   "metadata": {},
   "outputs": [],
   "source": []
  }
 ],
 "metadata": {
  "kernelspec": {
   "display_name": "Python 3",
   "language": "python",
   "name": "python3"
  },
  "language_info": {
   "codemirror_mode": {
    "name": "ipython",
    "version": 3
   },
   "file_extension": ".py",
   "mimetype": "text/x-python",
   "name": "python",
   "nbconvert_exporter": "python",
   "pygments_lexer": "ipython3",
   "version": "3.7.6"
  }
 },
 "nbformat": 4,
 "nbformat_minor": 4
}
