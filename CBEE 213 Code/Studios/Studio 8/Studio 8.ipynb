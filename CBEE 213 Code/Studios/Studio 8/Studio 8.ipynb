{
 "cells": [
  {
   "cell_type": "markdown",
   "metadata": {},
   "source": [
    "# ANOVA\n",
    "\n",
    "Last week we did a deep dive into Analysis of Variance.  After this hands-on exercise we have a better understanding of the underlying process which allows us to draw conclusions about the liklihood that various samples came from different populations.\n",
    "\n",
    "Today we'll explore a multi-factor data set. We'll start out with some basic exploratory data analysis, then we'll apply our knowledge of t-tests and one-way ANOVA to each of the factors.  Finally we'll acount for both factors with a two-way ANOVA and apply a post-hoc test to determine which of our factors are significant.\n",
    "\n",
    "The data set contains some plant growth data.  Plant height was measured for several groups. Both watering schedule and sunlight intensity were varied in the experiment.  The goal is the see if watering frequency and sunlight intensity affect the final height of the plant.\n",
    "\n",
    "Lets get some libraries!"
   ]
  },
  {
   "cell_type": "code",
   "execution_count": 72,
   "metadata": {},
   "outputs": [],
   "source": [
    "import os\n",
    "import warnings\n",
    "import numpy as np\n",
    "import pandas as pd\n",
    "import seaborn as sn\n",
    "from scipy import stats as st\n",
    "import matplotlib.pyplot as plt\n",
    "\n",
    "import statsmodels.api as sm\n",
    "from statsmodels.formula.api import ols\n",
    "from statsmodels.stats.multicomp import pairwise_tukeyhsd"
   ]
  },
  {
   "cell_type": "markdown",
   "metadata": {},
   "source": [
    "**Load the data**\n",
    "\n",
    "Put the `plants.csv` file into your current directory and load it into a pandas DataFrame. If you forget the method, either do a search for it or use a previous studio."
   ]
  },
  {
   "cell_type": "code",
   "execution_count": 73,
   "metadata": {},
   "outputs": [],
   "source": [
    "def path_finder(file_name):\n",
    "    \n",
    "    directory = os.path.dirname('__file__')\n",
    "    file_directory = os.path.join(directory, file_name)\n",
    "       \n",
    "    file_path = file_directory\n",
    "    \n",
    "    try:\n",
    "        csv_read = pd.read_csv(file_path)\n",
    "    \n",
    "    except Exception as e:\n",
    "        print('Failed to load data')\n",
    "        print(f'Error: {e}')\n",
    "        csv_read = None\n",
    "        \n",
    "    return csv_read\n",
    "\n",
    "def data_sorter(data):\n",
    "    \n",
    "    grouped_data = {}\n",
    "    \n",
    "    for _, row in data.iterrows():\n",
    "        \n",
    "        water = row['water']\n",
    "        sun = row['sun']\n",
    "        height = row['height']\n",
    "        \n",
    "        key = (water, sun, height)\n",
    "    \n",
    "        if key not in grouped_data:\n",
    "            grouped_data[key] = []\n",
    "            \n",
    "        grouped_data[key].append(row.to_dict())\n",
    "        \n",
    "    return grouped_data\n",
    "\n",
    "def data_analyzer(data):\n",
    "    \n",
    "    warnings.filterwarnings('ignore', category=RuntimeWarning)\n",
    "    \n",
    "    analysis_results = {}\n",
    "    \n",
    "    for key, rows in data.items():\n",
    "        \n",
    "        water, sun, height = key\n",
    "        key = (water, sun, height)\n",
    "\n",
    "        df = pd.DataFrame(rows)\n",
    "        \n",
    "        stats = {\n",
    "            'water mean' : df['water'].mean(skipna=True),\n",
    "            'water stdev' : df['water'].std(skipna=True),\n",
    "            'water median' : df['water'].median(skipna=True),\n",
    "            'sun mean' : df['sun'].mean(skipna=True),\n",
    "            'sun stdev' : df['sun'].std(skipna=True),\n",
    "            'sun median' : df['sun'].median(skipna=True),\n",
    "            'height mean' : df['height'].mean(skipna=True),\n",
    "            'height stdev' : df['height'].std(skipna=True),\n",
    "            'height median' : df['height'].median(skipna=True),\n",
    "            'Sample Size': len(df)\n",
    "        }\n",
    "        \n",
    "        stats = {k: float(v) if isinstance(v, np.float64) else v for k, v in stats.items()}\n",
    "        \n",
    "        analysis_results[key] = stats\n",
    "        \n",
    "    return analysis_results\n",
    "\n",
    "# Name of CSV file\n",
    "file_name = 'plants.csv'\n",
    "\n",
    "# Gets the data from the CSV\n",
    "plants_data = path_finder(file_name)\n",
    "\n",
    "# Sorts the data from the CSV\n",
    "sorted_plants_data = data_sorter(plants_data)\n",
    "\n",
    "daily_height = plants_data[plants_data['water'] == 'daily']['height']\n",
    "weekly_height = plants_data[plants_data['water'] == 'weekly']['height']"
   ]
  },
  {
   "cell_type": "code",
   "execution_count": 74,
   "metadata": {},
   "outputs": [
    {
     "name": "stdout",
     "output_type": "stream",
     "text": [
      "t-statistic: 2.4400, p-value: 0.0220\n"
     ]
    }
   ],
   "source": [
    "# Two-sample t-test using SciPy\n",
    "t_stat, p_val = st.ttest_ind(daily_height, weekly_height, equal_var=False)\n",
    "print(f\"t-statistic: {t_stat:.4f}, p-value: {p_val:.4f}\")"
   ]
  },
  {
   "cell_type": "markdown",
   "metadata": {},
   "source": [
    "**Explore the data**\n",
    "\n",
    "Have a look at the DataFrame.  How many columns are there?  What kind of data is in each column?  How many unique values are in the categorical columns?\n",
    "\n"
   ]
  },
  {
   "cell_type": "code",
   "execution_count": 75,
   "metadata": {},
   "outputs": [
    {
     "name": "stdout",
     "output_type": "stream",
     "text": [
      "   water  sun  height\n",
      "0  daily  low       6\n",
      "1  daily  low       6\n",
      "2  daily  low       6\n",
      "3  daily  low       5\n",
      "4  daily  low       6\n",
      "\n",
      "DataFrame info:\n",
      "<class 'pandas.core.frame.DataFrame'>\n",
      "RangeIndex: 30 entries, 0 to 29\n",
      "Data columns (total 3 columns):\n",
      " #   Column  Non-Null Count  Dtype \n",
      "---  ------  --------------  ----- \n",
      " 0   water   30 non-null     object\n",
      " 1   sun     30 non-null     object\n",
      " 2   height  30 non-null     int64 \n",
      "dtypes: int64(1), object(2)\n",
      "memory usage: 852.0+ bytes\n",
      "None\n",
      "\n",
      "Unique values in 'water': ['daily' 'weekly']\n",
      "Unique values in 'sun': ['low' 'med' 'high']\n"
     ]
    }
   ],
   "source": [
    "# Show the first few rows and info about the DataFrame\n",
    "print(plants_data.head())\n",
    "print(\"\\nDataFrame info:\")\n",
    "print(plants_data.info())\n",
    "\n",
    "# Unique values in categorical columns\n",
    "print(\"\\nUnique values in 'water':\", plants_data['water'].unique())\n",
    "print(\"Unique values in 'sun':\", plants_data['sun'].unique())"
   ]
  },
  {
   "cell_type": "markdown",
   "metadata": {},
   "source": [
    "Create a boxplot which has plant height on the y-axis and watering schedule on the x-axis.  \n",
    "\n",
    "The Seaborn library is the natural choice (lookup the boxplot function), but feel free to use library you wish. Just remember to import the associated library."
   ]
  },
  {
   "cell_type": "code",
   "execution_count": 76,
   "metadata": {},
   "outputs": [
    {
     "data": {
      "image/png": "[encoded data removed]",
      "text/plain": [
       "<Figure size 640x480 with 1 Axes>"
      ]
     },
     "metadata": {},
     "output_type": "display_data"
    }
   ],
   "source": [
    "sn.boxplot(x='water', y='height', data=plants_data)\n",
    "plt.title('Plant Height by Watering Schedule')\n",
    "plt.show()"
   ]
  },
  {
   "cell_type": "markdown",
   "metadata": {},
   "source": [
    "Now create a second box plot with plant height on the y-axis and sun intensity on the x-axis.  Take note of any differences."
   ]
  },
  {
   "cell_type": "code",
   "execution_count": 77,
   "metadata": {},
   "outputs": [
    {
     "data": {
      "image/png": "[encoded data removed]",
      "text/plain": [
       "<Figure size 640x480 with 1 Axes>"
      ]
     },
     "metadata": {},
     "output_type": "display_data"
    }
   ],
   "source": [
    "sn.boxplot(x='sun', y='height', data=plants_data)\n",
    "plt.title('Plant Height by Sun Intensity')\n",
    "plt.show()"
   ]
  },
  {
   "cell_type": "markdown",
   "metadata": {},
   "source": [
    "## Comparing daily vs weekly\n",
    "\n",
    "First we'll look at the difference between watering schedules only.  Since there are only two levels to this factor, we can split the height data into two samples.  \n",
    "\n",
    "First we'll isolate the \"daily\" data using a boolean index, then we'll grab the height values from that sample.\n",
    "\n",
    "```\n",
    "daily_idx = df[\"water\"] == \"daily\"\n",
    "daily_height = df[daily_idx][\"height\"]\n",
    "```\n",
    "\n",
    "NOTE: If 'df' doesn't work, use whichever variable you chose to load the data with."
   ]
  },
  {
   "cell_type": "code",
   "execution_count": 78,
   "metadata": {},
   "outputs": [
    {
     "name": "stdout",
     "output_type": "stream",
     "text": [
      "Daily heights: [6 6 6 5 6 5 5 6 4 5 6 6 7 8 7]\n",
      "Weekly heights: [3 4 4 4 5 4 4 4 4 4 5 6 6 7 8]\n"
     ]
    }
   ],
   "source": [
    "daily_height = plants_data[plants_data['water'] == 'daily']['height']\n",
    "weekly_height = plants_data[plants_data['water'] == 'weekly']['height']\n",
    "print(\"Daily heights:\", daily_height.values)\n",
    "print(\"Weekly heights:\", weekly_height.values)"
   ]
  },
  {
   "cell_type": "markdown",
   "metadata": {},
   "source": [
    "Now, create corresponding weekly height values."
   ]
  },
  {
   "cell_type": "code",
   "execution_count": 79,
   "metadata": {},
   "outputs": [],
   "source": [
    "# done above"
   ]
  },
  {
   "cell_type": "markdown",
   "metadata": {},
   "source": [
    "Get our function from a couple weeks ago to do our two sample t-test, and we will compare it to the built-in method from SciPy.\n",
    "\n",
    "```\n",
    "st.ttest_ind(sample_1,sample_2)\n",
    "```\n",
    "\n",
    "Perform both tests on the two different samples. For the SciPy method, rembember to replace 'sample_1' and 'sample_2' with the variables you created."
   ]
  },
  {
   "cell_type": "code",
   "execution_count": 80,
   "metadata": {},
   "outputs": [
    {
     "name": "stdout",
     "output_type": "stream",
     "text": [
      "Manual t-test: t = 2.4400, p = 0.0220\n",
      "SciPy t-test: t = 2.4400, p = 0.0220\n"
     ]
    }
   ],
   "source": [
    "def manual_ttest(sample1, sample2):\n",
    "    n1, n2 = len(sample1), len(sample2)\n",
    "    mean1, mean2 = np.mean(sample1), np.mean(sample2)\n",
    "    var1, var2 = np.var(sample1, ddof=1), np.var(sample2, ddof=1)\n",
    "\n",
    "    t_num = mean1 - mean2\n",
    "    t_den = np.sqrt(var1/n1 + var2/n2)\n",
    "    t_stat = t_num / t_den\n",
    "\n",
    "    df = (var1/n1 + var2/n2)**2 / ((var1**2)/((n1**2)*(n1-1)) + (var2**2)/((n2**2)*(n2-1)))\n",
    "\n",
    "    p_val = 2 * st.t.sf(np.abs(t_stat), df)\n",
    "    return t_stat, p_val\n",
    "\n",
    "\n",
    "t_manual, p_manual = manual_ttest(daily_height, weekly_height)\n",
    "print(f\"Manual t-test: t = {t_manual:.4f}, p = {p_manual:.4f}\")\n",
    "\n",
    "\n",
    "t_scipy, p_scipy = st.ttest_ind(daily_height, weekly_height, equal_var=False)\n",
    "print(f\"SciPy t-test: t = {t_scipy:.4f}, p = {p_scipy:.4f}\")"
   ]
  },
  {
   "cell_type": "markdown",
   "metadata": {},
   "source": [
    "Just for fun, let's compare this value to a one-way ANOVA using just the two samples.\n",
    "\n",
    "```\n",
    "st.f_oneway(sample_1,sample_2)\n",
    "```"
   ]
  },
  {
   "cell_type": "code",
   "execution_count": 81,
   "metadata": {},
   "outputs": [
    {
     "name": "stdout",
     "output_type": "stream",
     "text": [
      "ANOVA F-statistic: 5.9535, p-value: 0.0213\n"
     ]
    }
   ],
   "source": [
    "# One-way ANOVA for daily vs weekly watering\n",
    "f_stat, p_val = st.f_oneway(daily_height, weekly_height)\n",
    "print(f\"ANOVA F-statistic: {f_stat:.4f}, p-value: {p_val:.4f}\")"
   ]
  },
  {
   "cell_type": "markdown",
   "metadata": {},
   "source": [
    "Notice how the p-values are the same?  For two samples these methods are actually identical.  If we are doing the manual calculation it's a little easier to do the t-test, but if we wanted to do the algebra we could prove that they are actually calculating the same thing.\n",
    "\n",
    "So why do we have ANOVA?  As we saw last week we will often want to look at more than two samples.  In this case, doing multiple t-tests will increase our liklihood of Type I error.  The methods are not equivelent when there are more than two samples."
   ]
  },
  {
   "cell_type": "markdown",
   "metadata": {},
   "source": [
    "## Comparing sunlight intensity\n",
    "\n",
    "This factor has three levels, so we will have to perform an ANOVA to find our significance.  \n",
    "\n",
    "Just like we did for daily and weekly, isolate the data for each of the three levels (\"low\", \"med\", and \"high\") and perform a one-way ANOVA on the height.\n",
    "\n"
   ]
  },
  {
   "cell_type": "code",
   "execution_count": 82,
   "metadata": {},
   "outputs": [
    {
     "name": "stdout",
     "output_type": "stream",
     "text": [
      "Sunlight ANOVA F-statistic: 14.1050, p-value: 0.0001\n"
     ]
    }
   ],
   "source": [
    "low_height = plants_data[plants_data['sun'] == 'low']['height']\n",
    "med_height = plants_data[plants_data['sun'] == 'med']['height']\n",
    "high_height = plants_data[plants_data['sun'] == 'high']['height']\n",
    "\n",
    "\n",
    "f_stat_sun, p_val_sun = st.f_oneway(low_height, med_height, high_height)\n",
    "print(f\"Sunlight ANOVA F-statistic: {f_stat_sun:.4f}, p-value: {p_val_sun:.4f}\")"
   ]
  },
  {
   "cell_type": "markdown",
   "metadata": {},
   "source": [
    "### Basic two-way ANOVA\n",
    "\n",
    "But what happens when we want to look at both factors?  Afterall it's reasonably to think that they could both have an effect.  \n",
    "\n",
    "In this case we need a two-way ANOVA.  We are not going to dive into the math of the two-way ANOVA, but it basically works the same as the one way.  We are ultimately comparing in-group variance to between-group variance.\n",
    "\n",
    "The syntax is a little weird.  Just go with it.\n",
    "\n",
    "```\n",
    "model = ols('height ~ C(water) + C(sun)', data=df).fit()\n",
    "sm.stats.anova_lm(model, typ=2)\n",
    "```\n",
    "\n",
    "You can google the `anova_lm` function to read about the input.  Or if you search for \"two-way ANOVA Python\" you'll find a lot of articles.  ANOVA is one of the most widely used statistical techniques so it's well documented."
   ]
  },
  {
   "cell_type": "code",
   "execution_count": 83,
   "metadata": {},
   "outputs": [
    {
     "name": "stdout",
     "output_type": "stream",
     "text": [
      "             sum_sq    df          F    PR(>F)\n",
      "C(water)   8.533333   1.0  14.532751  0.000762\n",
      "C(sun)    24.866667   2.0  21.174672  0.000003\n",
      "Residual  15.266667  26.0        NaN       NaN\n"
     ]
    }
   ],
   "source": [
    "model = ols('height ~ C(water) + C(sun)', data=plants_data).fit()\n",
    "anova_table = sm.stats.anova_lm(model, typ=2)\n",
    "print(anova_table)"
   ]
  },
  {
   "cell_type": "markdown",
   "metadata": {},
   "source": [
    "### Two-way ANOVA with factor interaction\n",
    "\n",
    "We just looked at the influence of both factors on the height, but what about the \"factor interaction\"?  What if the intense sunlight allows the plant to use more water, or if the daily watering schedule allowed the plant to more efficiently utilize the sunlight?  This would create a factor interact, where changing both of those variables together produced an outcome that was different than the effect of changing each one independently.\n",
    "\n",
    "We basically use the same cyntax as before, but we add a term for water-sun interaction like this:\n",
    "\n",
    "`model = ols('height ~ C(water) + C(sun) + C(water):C(sun)', data=df).fit()`\n",
    "`sm.stats.anova_lm(model, typ=2)`\n"
   ]
  },
  {
   "cell_type": "code",
   "execution_count": 84,
   "metadata": {},
   "outputs": [
    {
     "name": "stdout",
     "output_type": "stream",
     "text": [
      "                    sum_sq    df        F    PR(>F)\n",
      "C(water)          8.533333   1.0  16.0000  0.000527\n",
      "C(sun)           24.866667   2.0  23.3125  0.000002\n",
      "C(water):C(sun)   2.466667   2.0   2.3125  0.120667\n",
      "Residual         12.800000  24.0      NaN       NaN\n"
     ]
    }
   ],
   "source": [
    "model_inter = ols('height ~ C(water) + C(sun) + C(water):C(sun)', data=plants_data).fit()\n",
    "anova_table_inter = sm.stats.anova_lm(model_inter, typ=2)\n",
    "print(anova_table_inter)"
   ]
  },
  {
   "cell_type": "markdown",
   "metadata": {},
   "source": [
    "We can see that we do not get a significant p-value for the interaction, so we cannot conclude that there is likely to be an additional effect when we change the level of both factors.\n",
    "\n",
    "## Post-hoc\n",
    "\n",
    "The ANOVA we just performed told us that there was liekly to be a difference between our populations, but it did not tell us *which* populations were likely to be different.  For that we need to do a post-hoc test.\n",
    "\n",
    "We will use a basic test called *Tukey's range test* which is also often called *Tukey's HSD (honestly signficant difference) test*.\n",
    "\n",
    "In this case we're going to skip the math altogether.  Just try the analysis.\n",
    "\n",
    "`tukey = pairwise_tukeyhsd(endog=df['height'],groups=df['sun'],alpha=0.05)`       \n",
    "\n",
    "`print(tukey)`\n"
   ]
  },
  {
   "cell_type": "code",
   "execution_count": 85,
   "metadata": {},
   "outputs": [
    {
     "name": "stdout",
     "output_type": "stream",
     "text": [
      "Multiple Comparison of Means - Tukey HSD, FWER=0.05\n",
      "==================================================\n",
      "group1 group2 meandiff p-adj  lower  upper  reject\n",
      "--------------------------------------------------\n",
      "  high    low     -1.7 0.0011 -2.741 -0.659   True\n",
      "  high    med     -2.1 0.0001 -3.141 -1.059   True\n",
      "   low    med     -0.4 0.6124 -1.441  0.641  False\n",
      "--------------------------------------------------\n"
     ]
    }
   ],
   "source": [
    "# Tukey's HSD post-hoc test for sunlight intensity\n",
    "tukey_sun = pairwise_tukeyhsd(endog=plants_data['height'], groups=plants_data['sun'], alpha=0.05)\n",
    "print(tukey_sun)"
   ]
  },
  {
   "cell_type": "markdown",
   "metadata": {},
   "source": [
    "Now try it for the watering schedule."
   ]
  },
  {
   "cell_type": "code",
   "execution_count": 86,
   "metadata": {},
   "outputs": [
    {
     "name": "stdout",
     "output_type": "stream",
     "text": [
      "Multiple Comparison of Means - Tukey HSD, FWER=0.05 \n",
      "====================================================\n",
      "group1 group2 meandiff p-adj   lower   upper  reject\n",
      "----------------------------------------------------\n",
      " daily weekly  -1.0667 0.0213 -1.9622 -0.1712   True\n",
      "----------------------------------------------------\n"
     ]
    }
   ],
   "source": [
    "# Tukey's HSD post-hoc test for watering schedule\n",
    "tukey_water = pairwise_tukeyhsd(endog=plants_data['height'], groups=plants_data['water'], alpha=0.05)\n",
    "print(tukey_water)"
   ]
  }
 ],
 "metadata": {
  "kernelspec": {
   "display_name": "Python 3",
   "language": "python",
   "name": "python3"
  },
  "language_info": {
   "codemirror_mode": {
    "name": "ipython",
    "version": 3
   },
   "file_extension": ".py",
   "mimetype": "text/x-python",
   "name": "python",
   "nbconvert_exporter": "python",
   "pygments_lexer": "ipython3",
   "version": "3.13.3"
  }
 },
 "nbformat": 4,
 "nbformat_minor": 4
}
