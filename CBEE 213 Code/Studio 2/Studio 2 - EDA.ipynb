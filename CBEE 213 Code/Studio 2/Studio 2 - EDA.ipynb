{
 "cells": [
  {
   "cell_type": "markdown",
   "id": "3b6a127f",
   "metadata": {},
   "source": [
    "# Penguins!\n",
    "\n",
    "In this notebook we'll spend some time doing exploratory data analysis.  What exactly does that mean?  When we get some new data, the first thing we need to do is *look at it*.  So we explore the data by making plots and calculating some summary statistics.  \n",
    "\n",
    "We're going to use a data set that contains some measurements of different penguin species.  Penguin parts if you will.  This is a great introduction to biological classification.  I could use similar methods to compare viruses, bacteria, or cancerous tumors, but the penguin data is simple and a nice place to get started.  \n",
    "\n",
    "First we'll get our libraries.   We're going to use [pandas](https://pandas.pydata.org/) and [seaborn](https://seaborn.pydata.org/).  Pandas is a powerful library for working with data sets and seaborn is built for visualization (although we will start by doing some visualization in pandas)."
   ]
  },
  {
   "cell_type": "code",
   "execution_count": null,
   "id": "a00e1d72",
   "metadata": {
    "scrolled": true
   },
   "outputs": [],
   "source": [
    "import pandas as pd\n",
    "import seaborn as sn"
   ]
  },
  {
   "cell_type": "markdown",
   "id": "b09408cc",
   "metadata": {},
   "source": [
    "### Loading Data\n",
    "\n",
    "The main data structure in pandas is the DataFrame.  For a single column of data pandas can use a Series, but for now we will work with DataFrames.\n",
    "\n",
    "Load the data into a DataFrame using the [read_csv()](https://pandas.pydata.org/docs/reference/api/pandas.read_csv.html) function.  There are a lot of options, but we can try the default options for now.\n",
    "\n",
    "Save the `penguins_size.csv` files in the same folder as this notebook.  You might have to enable the \"show files extensions\" option on windows to see the .csv.\n",
    "\n",
    "Try this line of code. I ***highly*** suggest typing rather than copy/pasting.  The learning is in the doing. \n",
    "\n",
    "```Python\n",
    "df = pd.read_csv(\"penguins_size.csv\")\n",
    "```\n",
    "\n",
    "This will load the data from the CSV file into a DataFrame and save assign it to the variable `df`.  We can name it anything we want, so this would also work.\n",
    "\n",
    "```Python\n",
    "penguins = pd.read_csv(\"penguins_size.csv\")\n",
    "```\n",
    "\n",
    "But it is common practice to just use `df` as the default name.  Much of the documentation is written with this syntax.  "
   ]
  },
  {
   "cell_type": "code",
   "execution_count": null,
   "id": "c481da62",
   "metadata": {
    "scrolled": true
   },
   "outputs": [],
   "source": []
  },
  {
   "cell_type": "markdown",
   "id": "edfb53d2",
   "metadata": {},
   "source": [
    "### First Look\n",
    "\n",
    "If that ran without errors then we loaded our data!  Now let's get our first look at it.  There are differing opinions as to how this should go.  We can use `df.head()` to actually look at the first few rows of data, or we can use `df.info()` to give a high-level summary of the DataFrame.  \n",
    "\n",
    "Try running both commands in the two cells below.  What information can you get from each of them?  What do you think the *Dtype* column means?  Discuss with your group members why this is a valuable first step."
   ]
  },
  {
   "cell_type": "code",
   "execution_count": null,
   "id": "0d9de727",
   "metadata": {
    "scrolled": true
   },
   "outputs": [],
   "source": []
  },
  {
   "cell_type": "code",
   "execution_count": null,
   "id": "f3754d80",
   "metadata": {
    "scrolled": true
   },
   "outputs": [],
   "source": []
  },
  {
   "cell_type": "markdown",
   "id": "b67d2bf9",
   "metadata": {},
   "source": [
    "### What does it mean?\n",
    "\n",
    "Now that we've looked at our data we can start to interpret what kind of information is included.  In this case much of it is obvious.  I know what a species is, and I bet I can guess what the islands are, and flipper length (note that units are included in the variable name), body mass, and sex are pretty straightforward.  But what's a culmen?  I'm not a birds major so I asked google.  Wikipedia came through!\n",
    "\n",
    "[Bird Measurement Wikipedia](https://en.wikipedia.org/wiki/Bird_measurement)\n",
    "\n",
    "### Crunching the Numbers\n",
    "\n",
    "I've got a few columns of categories and a few columns of numbers.  What if I want to calculate some summary stats on the numbers?  Pandas has built in functions for mean, median, and standard deviation.  I can apply them using dot syntax just like my head() and info() functions.  And the best part is they're smart enough to only calculate the values for the columns of numbers.  \n",
    "\n",
    "Try these commands, one in each cell below.  \n",
    "\n",
    "`df.mean()`\n",
    "\n",
    "`df.median()`\n",
    "\n",
    "`df.std()`"
   ]
  },
  {
   "cell_type": "code",
   "execution_count": null,
   "id": "43e21fbd",
   "metadata": {
    "scrolled": true
   },
   "outputs": [],
   "source": []
  },
  {
   "cell_type": "code",
   "execution_count": null,
   "id": "2b7c19a7",
   "metadata": {
    "scrolled": true
   },
   "outputs": [],
   "source": []
  },
  {
   "cell_type": "code",
   "execution_count": null,
   "id": "edf7342c",
   "metadata": {
    "scrolled": true
   },
   "outputs": [],
   "source": []
  },
  {
   "cell_type": "markdown",
   "id": "eafc1dde",
   "metadata": {},
   "source": [
    "In many cases we'll simply want all of this info to start.  Rather than performing each operation individually, pandas has the ability to give us a high level summary of each numerical column.\n",
    "\n",
    "The `df.describe()` method will calculate mean, standard deviation, various quantiles, and max/min values all in one go!  Give it a shot."
   ]
  },
  {
   "cell_type": "code",
   "execution_count": null,
   "id": "7ee1de52",
   "metadata": {
    "scrolled": true
   },
   "outputs": [],
   "source": []
  },
  {
   "cell_type": "markdown",
   "id": "2e6930f8",
   "metadata": {},
   "source": [
    "### Identifying Categories\n",
    "\n",
    "So I have just calculated some summary statistics for the whole data set.  But I know I have some categories included in my data.  They probably wouldn't have bothered to include a label for species, island, and sex unless there was more than one option.\n",
    "\n",
    "How many species do we have?\n",
    "\n",
    "First we'll isolate a single column using our column name as an index.  Try typing `df[\"species\"]` in the cell below and run it."
   ]
  },
  {
   "cell_type": "code",
   "execution_count": null,
   "id": "a8edf248",
   "metadata": {
    "scrolled": true
   },
   "outputs": [],
   "source": []
  },
  {
   "cell_type": "markdown",
   "id": "ecff85b5",
   "metadata": {},
   "source": [
    "Now we can see that there are at least two species becuase we can see the beginning and end of the data.  It doesn't show us all 344 values though.  We could loop through them and print them all, but it would be really tedious to go back and count if there are more than a few categories.  Fortunately pandas will identify all the unique values.  \n",
    "\n",
    "Try \n",
    "```Python \n",
    "df[\"species\"].unique()\n",
    "```"
   ]
  },
  {
   "cell_type": "code",
   "execution_count": null,
   "id": "0d4fe75a",
   "metadata": {
    "scrolled": true
   },
   "outputs": [],
   "source": []
  },
  {
   "cell_type": "markdown",
   "id": "f22cde50",
   "metadata": {},
   "source": [
    "How many islands do we have?"
   ]
  },
  {
   "cell_type": "code",
   "execution_count": null,
   "id": "267d985a",
   "metadata": {
    "scrolled": true
   },
   "outputs": [],
   "source": []
  },
  {
   "cell_type": "markdown",
   "id": "6e357535",
   "metadata": {},
   "source": [
    "What about sex?"
   ]
  },
  {
   "cell_type": "code",
   "execution_count": null,
   "id": "982fa693",
   "metadata": {
    "scrolled": true
   },
   "outputs": [],
   "source": []
  },
  {
   "cell_type": "markdown",
   "id": "be5e57e1",
   "metadata": {},
   "source": [
    "### Isolating Data\n",
    "\n",
    "What if I want to look at the data for one particular species?  There's a function for grouping by a category called `groupby()`.  \n",
    "\n",
    "Let's try to find the mean values for each species.\n",
    "\n",
    "```Python\n",
    "df.groupby(\"species\").mean()\n",
    "```"
   ]
  },
  {
   "cell_type": "code",
   "execution_count": null,
   "id": "d35e2fe2",
   "metadata": {},
   "outputs": [],
   "source": []
  },
  {
   "cell_type": "markdown",
   "id": "4a099d71",
   "metadata": {},
   "source": [
    "Now try doing the median and the standard deviation."
   ]
  },
  {
   "cell_type": "code",
   "execution_count": null,
   "id": "5e721cf0",
   "metadata": {},
   "outputs": [],
   "source": []
  },
  {
   "cell_type": "code",
   "execution_count": null,
   "id": "893a71f7",
   "metadata": {},
   "outputs": [],
   "source": []
  },
  {
   "cell_type": "markdown",
   "id": "3afb446b",
   "metadata": {},
   "source": [
    "Unfortunately this doesn't work that well if I try it on the describe method (go ahead and try if your curious, it won't hurt), so in this case I will need to apply a different process.\n",
    "\n",
    "First I need to find all the places where that data lives.  In this case we will make a *boolean array* that basically tells me where all the data for one particular species is located.  \n",
    "\n",
    "Let's find all the rows that contain Adelie penguins.\n",
    "\n",
    "```Python\n",
    "Adelie_idx = df[\"species\"] == \"Adelie\"\n",
    "```\n",
    "\n",
    "Now in the next cell simply type the `Adelie_idx` variable name and run it.  You should see a bunch of True/False values.  The dtype is *bool* which stands for boolean.  Notice that it's True at the top where the Adelie data lives, and False at the bottom where the Gentoo data lives.  This boolean array will allow us to isolate the Adelie data."
   ]
  },
  {
   "cell_type": "code",
   "execution_count": null,
   "id": "1d2a7d24",
   "metadata": {
    "scrolled": true
   },
   "outputs": [],
   "source": []
  },
  {
   "cell_type": "code",
   "execution_count": null,
   "id": "c77e54d1",
   "metadata": {
    "scrolled": true
   },
   "outputs": [],
   "source": []
  },
  {
   "cell_type": "markdown",
   "id": "30f6ddb9",
   "metadata": {},
   "source": [
    "We can pass the index into the DataFrame just like a column key, but we don't need quotes since it's not a key.  Then we can apply our `.describe()` method just like we did earlier.  \n",
    "\n",
    "`df[Adelie_idx].describe()`\n",
    "\n",
    "Compare these values to the values generated when we summarized the entire data set?  How are they different?"
   ]
  },
  {
   "cell_type": "code",
   "execution_count": null,
   "id": "c300abbb",
   "metadata": {
    "scrolled": true
   },
   "outputs": [],
   "source": []
  },
  {
   "cell_type": "markdown",
   "id": "abecb8e8",
   "metadata": {},
   "source": [
    "Now repeat the process for the other two species.  You don't need to print the boolean if you understand how it works."
   ]
  },
  {
   "cell_type": "code",
   "execution_count": null,
   "id": "ca1c37f5",
   "metadata": {
    "scrolled": true
   },
   "outputs": [],
   "source": []
  },
  {
   "cell_type": "code",
   "execution_count": null,
   "id": "6eeca59a",
   "metadata": {
    "scrolled": true
   },
   "outputs": [],
   "source": []
  },
  {
   "cell_type": "code",
   "execution_count": null,
   "id": "5c9c81cd",
   "metadata": {
    "scrolled": true
   },
   "outputs": [],
   "source": []
  },
  {
   "cell_type": "markdown",
   "id": "91554aa2",
   "metadata": {},
   "source": [
    "Compare the summary tables between each of the species.  Note as many differences as you can among your group.  Are the values higher, lower, or the same?\n",
    "\n",
    "\n",
    "### Visualization\n",
    "\n",
    "All this number crunching is valuable and we can certainly gain some useful insight, but nothing provides as much understanding as the good ol' [ocular](https://www.merriam-webster.com/dictionary/ocular) method.  So let's make some plots!\n",
    "\n",
    "Pandas is actually built on top of matplotlib and numpy.  So basic plotting capability is attached to our DataFrame.  We can make a basic scatter plot using the following syntax.\n",
    "\n",
    "```Python\n",
    "df.plot.scatter(x=\"culmen_length_mm\",y=\"culmen_depth_mm\")\n",
    "```"
   ]
  },
  {
   "cell_type": "code",
   "execution_count": null,
   "id": "bd03586f",
   "metadata": {
    "scrolled": true
   },
   "outputs": [],
   "source": []
  },
  {
   "cell_type": "markdown",
   "id": "cf8d823a",
   "metadata": {},
   "source": [
    "This is a fine plot, and we might even be able to discern a little clustering, but it's pretty obvious that splitting by species would provide more useful information.\n",
    "\n",
    "We already have our iboolean arrays for each species from our previous work.  We can simply pass them into the DataFrame and then make a scatter plot.  \n",
    "\n",
    "This will give us just the Adelie data.\n",
    "\n",
    "```Python\n",
    "df[Adelie_idx].plot.scatter(x=\"culmen_length_mm\",y=\"culmen_depth_mm\",c=\"tab:blue\")\n",
    "```\n",
    "\n",
    "I added a color option at the end.  I can use any of the [named colors](https://matplotlib.org/stable/gallery/color/named_colors.html) with this syntax.  Try it below"
   ]
  },
  {
   "cell_type": "code",
   "execution_count": null,
   "id": "39ad553f",
   "metadata": {
    "scrolled": true
   },
   "outputs": [],
   "source": []
  },
  {
   "cell_type": "markdown",
   "id": "19713ecb",
   "metadata": {},
   "source": [
    "Now try it for the other two species.  Use a different color for each.  Discuss each scatter plot with your group.  How are they similar?  How are they different?  "
   ]
  },
  {
   "cell_type": "code",
   "execution_count": null,
   "id": "0dc7258a",
   "metadata": {
    "scrolled": true
   },
   "outputs": [],
   "source": []
  },
  {
   "cell_type": "code",
   "execution_count": null,
   "id": "254f2b9d",
   "metadata": {
    "scrolled": true
   },
   "outputs": [],
   "source": []
  },
  {
   "cell_type": "markdown",
   "id": "b6bb86e1",
   "metadata": {},
   "source": [
    "While this gives us some useful info, it would be much easier to compare the plots if we had this all on one graph. To do this we're going to need to save the first plot as a variable, and then tell the plot command to use that same axis for the next two plots.  This syntax can get a little confusing, so I'm going to use `axs` as the variable name to then pass to the `ax`(axis) option in the next plot command.  I'm also going to use two different colors.\n",
    "\n",
    "```Python\n",
    "axs = df[Adelie_idx].plot.scatter(x=\"culmen_length_mm\",y=\"culmen_depth_mm\",c=\"tab:blue\")\n",
    "df[Chinstrap_idx].plot.scatter(x=\"culmen_length_mm\",y=\"culmen_depth_mm\", ax=axs,c=\"tab:orange\")\n",
    "```\n",
    "\n",
    "In the first line we are isolating the Adelie data just as before and making a scatter plot, but we assign that plot object (which we call and axis) to a variable.  Then when we plot the Chinstrap data, we use the `ax=axs` option to tell it to add that data to the axis we just made.  \n",
    "\n",
    "Try it below, then add the third species."
   ]
  },
  {
   "cell_type": "code",
   "execution_count": null,
   "id": "ddfc20e5",
   "metadata": {
    "scrolled": true
   },
   "outputs": [],
   "source": []
  },
  {
   "cell_type": "markdown",
   "id": "4bfe251f",
   "metadata": {},
   "source": [
    "Now we're getting somewhere!  All three species and we can clearly see the clusering!  We just need a legend, and we can also clean up the axis labels.  The best way is to use the methods attached to the axis object.  Add this to the code above.\n",
    "\n",
    "```Python\n",
    "axs.legend([\"Adelie\",\"Chinstrap\",\"Gentoo\"])\n",
    "axs.set_xlabel(\"Culmen Length (mm)\")\n",
    "axs.set_ylabel(\"Culmen Depth (mm)\")\n",
    "```\n",
    "\n",
    "Be sure that the names in the legend command are in the order plotted.  \n",
    "\n",
    "Now doesn't that look nice?\n",
    "\n",
    "But what if we want to make a plot of different data?  Let's develop a template and use variables to select the columns for x and y data.\n",
    "\n",
    "```Python\n",
    "x_data = \"culmen_length_mm\"\n",
    "y_data = \"culmen_depth_mm\"\n",
    "\n",
    "axs = df[Adelie_idx].plot.scatter(x=x_data,y=y_data,c=\"green\")\n",
    "df[Chinstrap_idx].plot.scatter(x=x_data,y=y_data, ax=axs,c=\"blue\")\n",
    "df[Gentoo_idx].plot.scatter(x=x_data,y=y_data, ax=axs,c=\"red\")\n",
    "axs.legend([\"Adelie\",\"Chinstrap\",\"Gentoo\"])\n",
    "axs.set_xlabel(\"Culmen Length (mm)\")\n",
    "axs.set_ylabel(\"Culmen Depth (mm)\")\n",
    "```\n",
    "\n",
    "Now we can easily change the data used for x and y.  Try the various columns with numerical values.  Which combinations show clean clustering between species?  Which have some overlap?  Discuss with your group which plots might be most useful for classification."
   ]
  },
  {
   "cell_type": "code",
   "execution_count": null,
   "id": "3908a94c",
   "metadata": {
    "scrolled": true
   },
   "outputs": [],
   "source": []
  },
  {
   "cell_type": "markdown",
   "id": "7265f802",
   "metadata": {},
   "source": [
    "### Seaborn\n",
    "\n",
    "We have seen the value in making detailed plots, but setting them up sure is tedious!  Fortunately for us someone already had that idea and built a library to generate amazing visualizations.  With seaborn we can generate some really valuable plots with one-line implementation.\n",
    "\n",
    "We already imported seaborn as sn, so give this a shot.\n",
    "\n",
    "```Python\n",
    "sn.pairplot(df,hue=\"species\")\n",
    "```"
   ]
  },
  {
   "cell_type": "code",
   "execution_count": null,
   "id": "39ca0adc",
   "metadata": {
    "scrolled": false
   },
   "outputs": [],
   "source": []
  },
  {
   "cell_type": "markdown",
   "id": "f9330e4d",
   "metadata": {},
   "source": [
    "Take some time to go through each of the plots.  Many of them we just created in the last pandas exercise.  Are there any that you did not create?  Again talk with your group about similarities and differences.  Which are most useful for classification?  And what's happening along the diagonal?  How do these plots compare to the summary stats produced with `df.describe()`?\n",
    "\n",
    "Try adjusting the hue based on the other categorical data.  What useful conclusion can you make by splitting along island or sex?"
   ]
  },
  {
   "cell_type": "code",
   "execution_count": null,
   "id": "746357ca",
   "metadata": {
    "scrolled": false
   },
   "outputs": [],
   "source": []
  },
  {
   "cell_type": "code",
   "execution_count": null,
   "id": "3d77e0a9",
   "metadata": {
    "scrolled": false
   },
   "outputs": [],
   "source": []
  },
  {
   "cell_type": "markdown",
   "id": "a64cf5c5",
   "metadata": {},
   "source": [
    "If you're the kind of nerd I am, you might at this point say to yourself \"Self!  How many other kinds of cool plots can seaborn make!?\"  So many... So many cool plots.  \n",
    "\n",
    "First let's have a look at the classic [box-and-whisker](https://seaborn.pydata.org/generated/seaborn.boxplot.html) plot.\n",
    "\n",
    "A box-and-whicker plot, or box plot for short, is basically a way to visualize quantiles.  Find out which quantile is represented from the documentation linked above (seriously do this).\n",
    "\n",
    "Now let's get after it.  We'll look at the distribution of body mass across each species.\n",
    "\n",
    "```Python\n",
    "sn.boxplot(x=\"species\", y=\"body_mass_g\", data=df)\n",
    "```\n",
    "\n",
    "After you make this box plot, look in the examples for how to add a hue option.  Split each species by sex.  In other words, make sex the hue option."
   ]
  },
  {
   "cell_type": "code",
   "execution_count": null,
   "id": "37f89fec",
   "metadata": {
    "scrolled": true
   },
   "outputs": [],
   "source": []
  },
  {
   "cell_type": "code",
   "execution_count": null,
   "id": "3f58644f",
   "metadata": {},
   "outputs": [],
   "source": []
  },
  {
   "cell_type": "markdown",
   "id": "9e93f105",
   "metadata": {},
   "source": [
    "Now try making some box plots of the other numerical variables.  Compare these plots to the scatter plots above.  Do they make sense?  Can you find out which species live on which island by using the options for x-axis and hue?"
   ]
  },
  {
   "cell_type": "code",
   "execution_count": null,
   "id": "86d0c2d8",
   "metadata": {
    "scrolled": true
   },
   "outputs": [],
   "source": []
  },
  {
   "cell_type": "markdown",
   "id": "27c28628",
   "metadata": {},
   "source": [
    "### Bonus Round!\n",
    "\n",
    "What if we wanted to find out which species lived on each island without plotting.  Can you use the groupby function to figure this out?  \n",
    "\n",
    "*Hint: The groupby option can be placed before the column key.  How did I find the unique values of the species before?*"
   ]
  },
  {
   "cell_type": "code",
   "execution_count": null,
   "id": "928dc055",
   "metadata": {
    "scrolled": true
   },
   "outputs": [],
   "source": []
  },
  {
   "cell_type": "code",
   "execution_count": null,
   "id": "d748d5db",
   "metadata": {},
   "outputs": [],
   "source": []
  }
 ],
 "metadata": {
  "kernelspec": {
   "display_name": "Python 3 (ipykernel)",
   "language": "python",
   "name": "python3"
  },
  "language_info": {
   "codemirror_mode": {
    "name": "ipython",
    "version": 3
   },
   "file_extension": ".py",
   "mimetype": "text/x-python",
   "name": "python",
   "nbconvert_exporter": "python",
   "pygments_lexer": "ipython3",
   "version": "3.9.7"
  }
 },
 "nbformat": 4,
 "nbformat_minor": 5
}
