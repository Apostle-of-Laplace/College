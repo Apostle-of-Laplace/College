{
 "cells": [
  {
   "cell_type": "code",
   "execution_count": null,
   "id": "9a99097a",
   "metadata": {},
   "outputs": [],
   "source": []
  },
  {
   "cell_type": "markdown",
   "id": "a8eb081a",
   "metadata": {},
   "source": [
    "# 1. Import the file “HIV_HW5.xlsx Download HIV_HW5.xlsx ” into Jupyter"
   ]
  },
  {
   "cell_type": "code",
   "execution_count": null,
   "id": "ba06e04f",
   "metadata": {},
   "outputs": [],
   "source": []
  },
  {
   "cell_type": "markdown",
   "id": "b3344397",
   "metadata": {},
   "source": [
    "# 2. Plot the data\n",
    "### A. Plot the mean and standard deviation for each treatment (sex.race/ethnicity) for the variable “HIV_Prevalence_per_100k”."
   ]
  },
  {
   "cell_type": "code",
   "execution_count": null,
   "id": "56d8c475",
   "metadata": {},
   "outputs": [],
   "source": []
  },
  {
   "cell_type": "markdown",
   "id": "74b539e2",
   "metadata": {},
   "source": [
    "### B. Plot the mean and standard deviation for each treatment (sex.race/ethnicity) for the variable “HIV_Prevalence_Perc_HIV_Patients”."
   ]
  },
  {
   "cell_type": "code",
   "execution_count": null,
   "id": "b8ce4a6f",
   "metadata": {},
   "outputs": [],
   "source": []
  },
  {
   "cell_type": "markdown",
   "id": "004b5095",
   "metadata": {},
   "source": [
    "### C. In a markdown cell, describe which group (or groups) has the highest prevalence of HIV across measures based on your graphs.\n"
   ]
  },
  {
   "cell_type": "markdown",
   "id": "1753755c",
   "metadata": {},
   "source": [
    "# 3. For “HIV_Prevalence_Perc_HIV_Patients”, perform a two sample two tailed t test to determine whether HIV prevalence is different between sexes.\n",
    "\n",
    "### A. Set up hypothesis\n"
   ]
  },
  {
   "cell_type": "code",
   "execution_count": null,
   "id": "177fcce6-e3de-4aca-8527-fbbc5e351681",
   "metadata": {},
   "outputs": [],
   "source": []
  },
  {
   "cell_type": "markdown",
   "id": "2e63dd50",
   "metadata": {},
   "source": [
    "### B. Calculate p value"
   ]
  },
  {
   "cell_type": "code",
   "execution_count": null,
   "id": "8f1ca2ea",
   "metadata": {},
   "outputs": [],
   "source": []
  },
  {
   "cell_type": "code",
   "execution_count": null,
   "id": "768e747f",
   "metadata": {},
   "outputs": [],
   "source": []
  },
  {
   "cell_type": "markdown",
   "id": "2d95e485",
   "metadata": {},
   "source": [
    "### C. Interpret the finding (reject or fail to reject the null hypothesis and describe what that means regarding sex differences in HIV prevalence)\n"
   ]
  },
  {
   "cell_type": "code",
   "execution_count": null,
   "id": "ef75b4d6",
   "metadata": {},
   "outputs": [],
   "source": []
  }
 ],
 "metadata": {
  "kernelspec": {
   "display_name": "anaconda-panel-2023.05-py310",
   "language": "python",
   "name": "conda-env-anaconda-panel-2023.05-py310-py"
  },
  "language_info": {
   "codemirror_mode": {
    "name": "ipython",
    "version": 3
   },
   "file_extension": ".py",
   "mimetype": "text/x-python",
   "name": "python",
   "nbconvert_exporter": "python",
   "pygments_lexer": "ipython3",
   "version": "3.11.5"
  }
 },
 "nbformat": 4,
 "nbformat_minor": 5
}
