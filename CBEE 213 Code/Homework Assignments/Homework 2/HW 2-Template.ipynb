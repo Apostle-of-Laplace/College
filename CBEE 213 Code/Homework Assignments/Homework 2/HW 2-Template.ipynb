{
 "cells": [
  {
   "cell_type": "markdown",
   "id": "397d2a42",
   "metadata": {},
   "source": [
    "# Homework 2: Monte Carlo simulation \n",
    "Using a Monte Carlo simulation approach, we will model variability in an industrial system filling containers with a fluid. Let’s say there is a factory filling 10,000 containers (150 mL each) per day with ethylene glycol. To fill the containers, nozzles open to release ethylene glycol from a reservoir such that the volume released into a 150 mL container is modeled by:\n",
    "\n",
    "Volume = time the nozzle is open x nozzle area x fluid viscosity\n",
    "\n",
    "Or more mathematically:\n",
    "$ V = t*A*32.7e^{\\frac{T}{320}} $\n",
    "\n",
    "Where:\n",
    "\n",
    "$t$ = the time the nozzle is open (seconds)\n",
    "\n",
    "$A$ = nozzle area (cm^2)\n",
    "\n",
    "$T$ = room temperature (celsius)"
   ]
  },
  {
   "cell_type": "markdown",
   "id": "b7091cb1",
   "metadata": {},
   "source": []
  },
  {
   "cell_type": "markdown",
   "id": "0b296360",
   "metadata": {},
   "source": [
    "### 1. Using this equation, set t=3.45 seconds, T= 21°C, and A=1.2 cm^2 and calculate the deterministic (expected) volume (mL of ethylene glycol) that will be released into each 150 mL container."
   ]
  },
  {
   "cell_type": "code",
   "execution_count": 1,
   "id": "36c9c7da",
   "metadata": {},
   "outputs": [],
   "source": [
    "import numpy as np\n",
    "import pandas as pd\n",
    "import matplotlib.pyplot as plt"
   ]
  },
  {
   "cell_type": "code",
   "execution_count": 2,
   "id": "81b2bdae",
   "metadata": {},
   "outputs": [],
   "source": [
    "# The function is designed to process and decide how many repetitions of volume calculation are needed\n",
    "# This function then creates a time variable with the tolerance allowed in the prompt\n",
    "# After the function either returns all the data as an array, or just the one value\n",
    "\n",
    "def volume_finder(repetitions):\n",
    "   \n",
    "    if repetitions == 1:\n",
    "        time_tolerance = np.random.randint(-5, 5) / 100\n",
    "        time_passed = 3.45 # seconds\n",
    "        time = time_passed + time_tolerance\n",
    "        temperature = 21 # Celsius\n",
    "        area = 1.2 # cm^2\n",
    "        viscosity = 32.7 * np.exp( ( temperature / 320 ) )\n",
    "\n",
    "        volume = time * area * viscosity\n",
    "        volume = np.round(volume, 2)\n",
    "        \n",
    "        return volume \n",
    "    \n",
    "    elif repetitions > 1:\n",
    "        volume_data = []\n",
    "        for i in range(repetitions):\n",
    "            time_tolerance = np.random.randint(-5, 5) / 100\n",
    "            time_passed = 3.45 # seconds\n",
    "            time = time_passed + time_tolerance\n",
    "            temperature = 21 # Celsius\n",
    "            area = 1.2 # cm^2\n",
    "            viscosity = 32.7 * np.exp( ( temperature / 320 ) )\n",
    "\n",
    "            volume =  time * area * viscosity\n",
    "            volume = np.round(volume, 2)\n",
    "            \n",
    "            volume_data.append(volume)\n",
    "        return volume_data\n",
    "    \n",
    "    else:\n",
    "        print('The input was not able to be processed.')\n",
    "        return None \n",
    "\n",
    "\n",
    "# how_many = 5\n",
    "# print(volume_finder(how_many))"
   ]
  },
  {
   "cell_type": "markdown",
   "id": "6e95bdf3",
   "metadata": {},
   "source": [
    "### 2. The nozzle manufacturer says there is a timing tolerance of up to ±0.05 seconds, which may be longer with old or well-used equipment. Using the np.random.randn(), simulate this temporal uncertainty to the timing variable, t, and calculate one potential volume outcome."
   ]
  },
  {
   "cell_type": "code",
   "execution_count": null,
   "id": "df421be4",
   "metadata": {},
   "outputs": [],
   "source": []
  },
  {
   "cell_type": "markdown",
   "id": "5cac351f",
   "metadata": {},
   "source": [
    "### 3.  Repeat the calculations for 10,000 containers and make a histogram of the outcomes."
   ]
  },
  {
   "cell_type": "code",
   "execution_count": null,
   "id": "89111705",
   "metadata": {},
   "outputs": [
    {
     "name": "stdout",
     "output_type": "stream",
     "text": [
      "Error: invalid literal for int() with base 10: 'a'\n",
      "Error: invalid literal for int() with base 10: 'b'\n",
      "Error: invalid literal for int() with base 10: ''\n",
      "Error: invalid literal for int() with base 10: 'c'\n",
      "Error: invalid literal for int() with base 10: 'd'\n",
      "Error: invalid literal for int() with base 10: 'e'\n",
      "Error: invalid literal for int() with base 10: 'f'\n",
      "Error: invalid literal for int() with base 10: 'g'\n",
      "Error: invalid literal for int() with base 10: 'exit'\n",
      "Error: invalid literal for int() with base 10: \"'exit\"\n",
      "Error: invalid literal for int() with base 10: \"'exit'\"\n"
     ]
    }
   ],
   "source": [
    "\n"
   ]
  },
  {
   "cell_type": "markdown",
   "id": "bb891565-3de8-4ad3-b6e2-09f6fb02bfbb",
   "metadata": {},
   "source": [
    "### 3a. Calculate the mean, standard deviation, and range of the 10,000 outcomes. Based on these findings, would you trust purchasing a container from this factory? Support your answer."
   ]
  },
  {
   "cell_type": "code",
   "execution_count": null,
   "id": "c26f5583-e2bf-4e0a-a0bd-41c8a2b740b7",
   "metadata": {},
   "outputs": [],
   "source": []
  },
  {
   "cell_type": "markdown",
   "id": "653c53c6-2a24-42a7-be24-cab557ed46ae",
   "metadata": {},
   "source": [
    "### 3b. Using the results from 3a, calculate the cumulative probability of releasing a volume exceeding (i.e. overfilling) the 150 mL container. Does that level of overfilled containers seem acceptable for a profitable business?"
   ]
  },
  {
   "cell_type": "code",
   "execution_count": null,
   "id": "7a7a9205",
   "metadata": {},
   "outputs": [],
   "source": []
  },
  {
   "cell_type": "markdown",
   "id": "9841c1f7",
   "metadata": {},
   "source": [
    "### 4. Engineering tolerances aren’t the only factor to consider in complex systems. In this case, fluid viscosity (and thus the volume released in a given time) is affected by temperature. It is common for a factory room to heat up by several degrees due to motorized equipment running for multiple hours. In addition to the nozzle timing uncertainty, add a thermal uncertainty of ±4°C to the room temperature variable, T.\n"
   ]
  },
  {
   "cell_type": "code",
   "execution_count": null,
   "id": "da87016f-53c7-40f4-829e-7be014911215",
   "metadata": {},
   "outputs": [],
   "source": []
  },
  {
   "cell_type": "markdown",
   "id": "5132d62b-026f-4dd0-b6b6-e051148b2501",
   "metadata": {},
   "source": [
    "### 4a. Calculate the volumes for 10,000 outcomes and make a histogram."
   ]
  },
  {
   "cell_type": "code",
   "execution_count": null,
   "id": "8c7602fc-063b-4700-932d-efd956026a17",
   "metadata": {},
   "outputs": [],
   "source": []
  },
  {
   "cell_type": "markdown",
   "id": "bc2acaf7-76aa-41b6-abe1-c2818a3fc687",
   "metadata": {},
   "source": [
    "### 4b. Calculate the mean, standard deviation, and range of the 10,000 outcomes. Based on these findings, would you change your opinion from 3a? Support your answer."
   ]
  },
  {
   "cell_type": "code",
   "execution_count": null,
   "id": "c593fcb7-93d5-481b-aa09-92cc51a25c88",
   "metadata": {},
   "outputs": [],
   "source": []
  },
  {
   "cell_type": "markdown",
   "id": "070d2d57-de84-4d83-9c3b-23ac7d8dd239",
   "metadata": {},
   "source": [
    "## 4c. Using the results from 4b, calculate the cumulative probability of overfilling a 150 mL container."
   ]
  },
  {
   "cell_type": "code",
   "execution_count": null,
   "id": "96fc2f66-a8e1-4645-a364-c3be4e66e6a7",
   "metadata": {},
   "outputs": [],
   "source": []
  },
  {
   "cell_type": "markdown",
   "id": "73600e16-68e4-4332-9272-030f46e265dc",
   "metadata": {},
   "source": [
    "### 4d. Calculate the cumulative probability of UNDERfilling a container by 5% of the deterministic volume from question 1."
   ]
  },
  {
   "cell_type": "code",
   "execution_count": null,
   "id": "972ac531-f045-417b-b38a-aae83cdd4e3d",
   "metadata": {},
   "outputs": [],
   "source": []
  },
  {
   "cell_type": "markdown",
   "id": "4d475dda-7913-4577-bd3c-9e3ed96ae40d",
   "metadata": {},
   "source": [
    "### 4e. Calculate the cumulative probability of filling a container within 1mL of the deterministic volume. "
   ]
  },
  {
   "cell_type": "code",
   "execution_count": null,
   "id": "4f69f914-7cef-4c66-b046-59475add37cd",
   "metadata": {},
   "outputs": [],
   "source": []
  },
  {
   "cell_type": "markdown",
   "id": "7ea63844",
   "metadata": {},
   "source": [
    "### Extra Credit: How many containers would be overfilled with both the temporal and thermal uncertainty conditions? If each overfilled container cost the company 1.25USD in lost product and cleaning time and it would cost 250kUSD to insulate the equipment. Would it be profitable to insulate the equipment over one year? Over another time period? Recall, the company produces 10k containers per day."
   ]
  },
  {
   "cell_type": "code",
   "execution_count": null,
   "id": "c0386536",
   "metadata": {},
   "outputs": [],
   "source": []
  },
  {
   "cell_type": "code",
   "execution_count": null,
   "id": "21c4ad14",
   "metadata": {},
   "outputs": [],
   "source": []
  },
  {
   "cell_type": "code",
   "execution_count": null,
   "id": "9cbf0368",
   "metadata": {},
   "outputs": [],
   "source": []
  }
 ],
 "metadata": {
  "kernelspec": {
   "display_name": "Python 3",
   "language": "python",
   "name": "python3"
  },
  "language_info": {
   "codemirror_mode": {
    "name": "ipython",
    "version": 3
   },
   "file_extension": ".py",
   "mimetype": "text/x-python",
   "name": "python",
   "nbconvert_exporter": "python",
   "pygments_lexer": "ipython3",
   "version": "3.13.3"
  }
 },
 "nbformat": 4,
 "nbformat_minor": 5
}
