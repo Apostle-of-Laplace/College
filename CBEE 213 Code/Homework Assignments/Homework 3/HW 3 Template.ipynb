{
 "cells": [
  {
   "cell_type": "markdown",
   "id": "91f7cc3f",
   "metadata": {},
   "source": [
    "## HW 3 Workflow\n",
    "Looking over the assignment it should be pretty straight forward. I plan on breaking it into two main chunks.\n",
    "Chunk 1 will be done on Tuesday, I am going to work through parts 1 and 2, iterating upon them to get a decent script going.\n",
    "Chunk 2 will be done on Thursday, I will clean up the parts 1/2 work and finish Part 3, before submitting the assignment. "
   ]
  },
  {
   "cell_type": "code",
   "execution_count": null,
   "id": "d0b8be7c",
   "metadata": {},
   "outputs": [],
   "source": [
    "# import notebooks"
   ]
  },
  {
   "cell_type": "markdown",
   "id": "6a6149c8",
   "metadata": {},
   "source": [
    "---\n",
    "\n",
    "**Part 1: Confidence Intervals**\n",
    "\n",
    "A. Assuming a population standard deviation of $\\sigma = 0.5$, calculate the 90% and 95% confidence intervals for the population mean using the set of measurements below. *(Hint: Use a z-value since the population standard deviation is known).* Both data sets were pulled from a population with the same mean and standard deviation. How are the confidence intervals different?  \n",
    "I. [3.84, 4.45, 4.07, 3.88, 3.12]  \n",
    "II. [3.46, 3.32, 4.03, 3.61, 3.74, 3.72, 3.37, 3.93, 4.25, 4.78]\n",
    "\n",
    "---"
   ]
  },
  {
   "cell_type": "code",
   "execution_count": null,
   "id": "14d90ab8",
   "metadata": {},
   "outputs": [],
   "source": []
  },
  {
   "cell_type": "code",
   "execution_count": null,
   "id": "19a531f7",
   "metadata": {},
   "outputs": [],
   "source": []
  },
  {
   "cell_type": "markdown",
   "id": "5cb44e94",
   "metadata": {},
   "source": [
    "*Define confidence interval:*  \n",
    "$$ \\mu = \\bar{x} \\pm z^{*} \\frac{\\sigma}{\\sqrt{n}} $$\n",
    "*Where:*\n",
    "- $z^{*}$ *is the critical value of the z-dsitribution representing a $1-\\alpha/2$ level of significance*\n",
    "    - $\\alpha$ *is the level of significance*\n",
    "- $\\bar{x}$ *sample average*\n",
    "- $\\frac{\\sigma}{\\sqrt{n}} $ *standard error*  \n",
    "\n",
    "|Confidence Level|$\\alpha$|$z^{*}$|\n",
    "|:-:|:-:|:-:|\n",
    "|90%|0.10|1.645|\n",
    "|95%|0.05|1.960|\n",
    "|99%|0.01|2.567|"
   ]
  },
  {
   "cell_type": "code",
   "execution_count": null,
   "id": "4b73621e",
   "metadata": {},
   "outputs": [],
   "source": []
  },
  {
   "cell_type": "markdown",
   "id": "9d6224fa",
   "metadata": {},
   "source": [
    "B. Now assume that the population standard deviation is unknown.  Repeat part A using a t-value and the sample standard deviation.  Compare your answer to part A."
   ]
  },
  {
   "cell_type": "code",
   "execution_count": null,
   "id": "b6909289",
   "metadata": {},
   "outputs": [],
   "source": []
  },
  {
   "cell_type": "markdown",
   "id": "41ee997c",
   "metadata": {},
   "source": [
    "C. Your company produces a chemical product which must have a kinematic viscosity of 14.9 mm2/s.  To estimate the kinematic viscosity of a particular batch, productions techs will take 4 samples to measure.  The data from several batches is presented in the attached CSV file.   \n",
    "1. Calculate the mean kinematic viscosity of each batch.\n",
    "    - Hint: Try this!  You can change the 0:4 to the proper index number for the columns you want to average.<br> `df['mean'] = df.iloc[:, 0:4].mean(axis=1)`\n",
    "2. Calculate the 95% confidence interval for each batch.  Try creating a column for the upper bound and lower bound separately.\n",
    "3. Calculate the mean of all 40 measurements\n",
    "4. Do any of the CI's (calculated in part II) not include the mean calculated in part III?"
   ]
  },
  {
   "cell_type": "code",
   "execution_count": null,
   "id": "3060c9b2",
   "metadata": {
    "scrolled": true
   },
   "outputs": [],
   "source": []
  },
  {
   "cell_type": "markdown",
   "id": "79e6d13b",
   "metadata": {},
   "source": [
    "**Part 2: Hypothesis Testing**  \n",
    "\n",
    "A. Your company discharges a chemical into a local river which cannot exceed a value of 15 PPM (parts per million).  A tech just measured 5 values from the production line.  Perform a hypothesis test to predict with 95% certainty that the population mean is below 15 PPM.  \n",
    "\n",
    "[14.35, 13.33, 10.79, 17.10,  15.37]\n"
   ]
  },
  {
   "cell_type": "code",
   "execution_count": null,
   "id": "d52961b6",
   "metadata": {},
   "outputs": [],
   "source": []
  },
  {
   "cell_type": "markdown",
   "id": "6a40299a",
   "metadata": {},
   "source": [
    "*We will use a left-tailed t-test to see if our population mean is less than 15ppm. We are using a t-test since we do not know the population standard deviation.*  \n",
    "\n",
    "*Here are the steps:*  \n",
    "1. *Calculate the sample mean and standard deviation.*  \n",
    "2. *Calculate t-value using the sample mean, the standard error of the mean, and the population mean proposed by the null hypothesis.*  \n",
    "3. *Calculate the cumulative probability up to that t-value.*  \n",
    "4. *Compare this cumulative probability to our required level of significance.*  \n",
    "\n",
    "*Calculating the t-value:*\n",
    "$$ t = \\frac{\\bar{x}-\\mu_{0}}{\\frac{s}{\\sqrt{n}}} $$  \n",
    "- $\\bar{x}$ *sample average*\n",
    "- $\\mu_{0}$ *population average*\n"
   ]
  },
  {
   "cell_type": "code",
   "execution_count": null,
   "id": "5823c373",
   "metadata": {},
   "outputs": [],
   "source": []
  },
  {
   "cell_type": "markdown",
   "id": "8f6e7aa0",
   "metadata": {},
   "source": [
    "B. Your company produces liquid HCl which cannot fall below a value of 0.5 molar.  A tech just measured 5 values from the production line.  Perform a hypothesis test to predict with 95% certainty that the population mean is above 0.5.  \n",
    "\n",
    "[0.5081, 0.5119, 0.5143, 0.5117, 0.5085, 0.5060]"
   ]
  },
  {
   "cell_type": "code",
   "execution_count": null,
   "id": "9474be4f",
   "metadata": {},
   "outputs": [],
   "source": []
  },
  {
   "cell_type": "markdown",
   "id": "d1e828b2",
   "metadata": {},
   "source": [
    "**Part 3: Monte Carlo** \n",
    "\n",
    "We want to estimate the variability of the process we looked at in problem 1-C.  Use the mean of all 40 samples as an estimate for the process mean, and the standard deviation of all 40 samples as an estimate for the process standard deviation.  Then write a short Monte Carlo simulation to estimate the variation between batches.  The steps below will guide you through the process.  \n",
    "\n",
    "A. Define variables for the population mean and standard deviation, then write a line of code using Numpy to generate some random measurements.   \n",
    "\n",
    "`sigma * np.random.randn(...) + mu`"
   ]
  },
  {
   "cell_type": "code",
   "execution_count": null,
   "id": "1d074198",
   "metadata": {},
   "outputs": [],
   "source": []
  },
  {
   "cell_type": "markdown",
   "id": "6c7e4cb6",
   "metadata": {},
   "source": [
    "B. Now calculate the average of that sample and store it in an array."
   ]
  },
  {
   "cell_type": "code",
   "execution_count": null,
   "id": "eed58d14",
   "metadata": {},
   "outputs": [],
   "source": []
  },
  {
   "cell_type": "markdown",
   "id": "bea5e9bf",
   "metadata": {},
   "source": [
    "C. Loop around this process to generate many samples and store each average value in the array."
   ]
  },
  {
   "cell_type": "code",
   "execution_count": null,
   "id": "dd3d872f",
   "metadata": {},
   "outputs": [],
   "source": []
  },
  {
   "cell_type": "markdown",
   "id": "3411d151",
   "metadata": {},
   "source": [
    "D. Make a histogram of the averages."
   ]
  },
  {
   "cell_type": "code",
   "execution_count": null,
   "id": "1cba60be",
   "metadata": {},
   "outputs": [],
   "source": []
  },
  {
   "cell_type": "markdown",
   "id": "7ebaad48",
   "metadata": {},
   "source": [
    "E. Run this loop for 10,000 iteration, representing 10,000 batches. "
   ]
  },
  {
   "cell_type": "code",
   "execution_count": null,
   "id": "17c4e898",
   "metadata": {},
   "outputs": [],
   "source": []
  },
  {
   "cell_type": "markdown",
   "id": "471d344b",
   "metadata": {},
   "source": [
    "F. Compare the histogram to the confidence intervals calculated in 1-C."
   ]
  },
  {
   "cell_type": "code",
   "execution_count": null,
   "id": "27d3c839",
   "metadata": {
    "scrolled": true
   },
   "outputs": [],
   "source": []
  },
  {
   "cell_type": "code",
   "execution_count": null,
   "id": "3175da0e",
   "metadata": {},
   "outputs": [],
   "source": []
  }
 ],
 "metadata": {
  "kernelspec": {
   "display_name": "Python 3",
   "language": "python",
   "name": "python3"
  },
  "language_info": {
   "codemirror_mode": {
    "name": "ipython",
    "version": 3
   },
   "file_extension": ".py",
   "mimetype": "text/x-python",
   "name": "python",
   "nbconvert_exporter": "python",
   "pygments_lexer": "ipython3",
   "version": "3.12.10"
  }
 },
 "nbformat": 4,
 "nbformat_minor": 5
}
