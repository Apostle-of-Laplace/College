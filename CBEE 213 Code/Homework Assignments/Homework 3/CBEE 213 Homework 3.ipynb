{
 "cells": [
  {
   "cell_type": "code",
   "execution_count": 1,
   "id": "d0b8be7c",
   "metadata": {},
   "outputs": [],
   "source": [
    "import numpy as np\n",
    "from scipy.stats import norm\n",
    "import os\n",
    "import pandas as pd\n",
    "from scipy.stats import t\n",
    "import matplotlib.pyplot as plt"
   ]
  },
  {
   "cell_type": "markdown",
   "id": "6a6149c8",
   "metadata": {},
   "source": [
    "---\n",
    "\n",
    "**Part 1: Confidence Intervals**\n",
    "\n",
    "A. Assuming a population standard deviation of $\\sigma = 0.5$, calculate the 90% and 95% confidence intervals for the population mean using the set of measurements below. *(Hint: Use a z-value since the population standard deviation is known).* Both data sets were pulled from a population with the same mean and standard deviation. How are the confidence intervals different?  \n",
    "I. [3.84, 4.45, 4.07, 3.88, 3.12]  \n",
    "II. [3.46, 3.32, 4.03, 3.61, 3.74, 3.72, 3.37, 3.93, 4.25, 4.78]\n",
    "\n",
    "---"
   ]
  },
  {
   "cell_type": "code",
   "execution_count": 2,
   "id": "14d90ab8",
   "metadata": {},
   "outputs": [
    {
     "name": "stdout",
     "output_type": "stream",
     "text": [
      "Dataset 1 - 90% Confidence Interval: [3.5  4.24]\n",
      "Dataset 2 - 90% Confidence Interval: [3.56 4.08]\n",
      "Dataset 1 - 95% Confidence Interval: [3.43 4.31]\n",
      "Dataset 2 - 95% Confidence Interval: [3.51 4.13]\n"
     ]
    }
   ],
   "source": [
    "data1 = [3.84, 4.45, 4.07, 3.88, 3.12]\n",
    "data2 = [3.46, 3.32, 4.03, 3.61, 3.74, 3.72, 3.37, 3.93, 4.25, 4.78]\n",
    "\n",
    "sigma = 0.5\n",
    "\n",
    "confidence_levels = [0.9, 0.95]\n",
    "z_values = [norm.ppf(1 - (1 - cl) / 2) for cl in confidence_levels]\n",
    "\n",
    "def calculate_ci(data, sigma, z_values):\n",
    "    n = len(data)\n",
    "    mean = np.mean(data)\n",
    "    ci_results = []\n",
    "    \n",
    "    for z in z_values:\n",
    "        margin_of_error = z * (sigma / np.sqrt(n))\n",
    "        \n",
    "        lower_bound = mean - margin_of_error\n",
    "        upper_bound = mean + margin_of_error\n",
    "        \n",
    "        ci_results.append((lower_bound, upper_bound))\n",
    "        \n",
    "    return ci_results\n",
    "\n",
    "ci_data1 = calculate_ci(data1, sigma, z_values)\n",
    "ci_data2 = calculate_ci(data2, sigma, z_values)\n",
    "\n",
    "for i, cl in enumerate(confidence_levels):\n",
    "    print(f'Dataset 1 - {int(cl * 100)}% Confidence Interval: {np.round(ci_data1[i], 2)}')\n",
    "    print(f'Dataset 2 - {int(cl * 100)}% Confidence Interval: {np.round(ci_data2[i], 2)}')\n",
    "    \n",
    "\n",
    "    "
   ]
  },
  {
   "cell_type": "markdown",
   "id": "5cb44e94",
   "metadata": {},
   "source": [
    "*Define confidence interval:*  \n",
    "$$ \\mu = \\bar{x} \\pm z^{*} \\frac{\\sigma}{\\sqrt{n}} $$\n",
    "*Where:*\n",
    "- $z^{*}$ *is the critical value of the z-dsitribution representing a $1-\\alpha/2$ level of significance*\n",
    "    - $\\alpha$ *is the level of significance*\n",
    "- $\\bar{x}$ *sample average*\n",
    "- $\\frac{\\sigma}{\\sqrt{n}} $ *standard error*  \n",
    "\n",
    "|Confidence Level|$\\alpha$|$z^{*}$|\n",
    "|:-:|:-:|:-:|\n",
    "|90%|0.10|1.645|\n",
    "|95%|0.05|1.960|\n",
    "|99%|0.01|2.567|"
   ]
  },
  {
   "cell_type": "markdown",
   "id": "9d6224fa",
   "metadata": {},
   "source": [
    "B. Now assume that the population standard deviation is unknown.  Repeat part A using a t-value and the sample standard deviation.  Compare your answer to part A."
   ]
  },
  {
   "cell_type": "code",
   "execution_count": 3,
   "id": "b6909289",
   "metadata": {},
   "outputs": [
    {
     "name": "stdout",
     "output_type": "stream",
     "text": [
      "Dataset 1 - 90% Confidence Interval: [3.52 4.23]\n",
      "Dataset 2 - 90% Confidence Interval: [3.59 4.05]\n",
      "Dataset 1 - 95% Confidence Interval: [3.45 4.3 ]\n",
      "Dataset 2 - 95% Confidence Interval: [3.54 4.1 ]\n"
     ]
    }
   ],
   "source": [
    "def sigma_finder(data):\n",
    "    \n",
    "    std_dev = np.std(data, ddof=1)\n",
    "    \n",
    "    return std_dev\n",
    "\n",
    "ci_data1 = calculate_ci(data1, sigma_finder(data1), z_values)\n",
    "ci_data2 = calculate_ci(data2, sigma_finder(data2), z_values)\n",
    "\n",
    "for i, cl in enumerate(confidence_levels):\n",
    "    print(f'Dataset 1 - {int(cl * 100)}% Confidence Interval: {np.round(ci_data1[i], 2)}')\n",
    "    print(f'Dataset 2 - {int(cl * 100)}% Confidence Interval: {np.round(ci_data2[i], 2)}')"
   ]
  },
  {
   "cell_type": "markdown",
   "id": "41ee997c",
   "metadata": {},
   "source": [
    "C. Your company produces a chemical product which must have a kinematic viscosity of 14.9 mm2/s.  To estimate the kinematic viscosity of a particular batch, productions techs will take 4 samples to measure.  The data from several batches is presented in the attached CSV file.   \n",
    "1. Calculate the mean kinematic viscosity of each batch.\n",
    "    - Hint: Try this!  You can change the 0:4 to the proper index number for the columns you want to average.<br> `df['mean'] = df.iloc[:, 0:4].mean(axis=1)`\n",
    "2. Calculate the 95% confidence interval for each batch.  Try creating a column for the upper bound and lower bound separately.\n",
    "3. Calculate the mean of all 40 measurements\n",
    "4. Do any of the CI's (calculated in part II) not include the mean calculated in part III?"
   ]
  },
  {
   "cell_type": "code",
   "execution_count": 4,
   "id": "3060c9b2",
   "metadata": {
    "scrolled": true
   },
   "outputs": [
    {
     "name": "stdout",
     "output_type": "stream",
     "text": [
      "          ID       Date     x1     x2     x3     x4     mean  lower_bound  \\\n",
      "0   Sample 1  28-May-21  15.64  15.36  10.33  15.28  14.1525    10.090102   \n",
      "1   Sample 2  30-May-21  15.32  15.21  16.70  15.70  15.7325    14.653172   \n",
      "2   Sample 3   1-Jun-21  18.09  15.97  13.76  16.57  16.0975    13.240161   \n",
      "3   Sample 4   3-Jun-21  17.02  14.27  16.96  17.21  16.3650    14.136132   \n",
      "4   Sample 5   5-Jun-21  14.01  17.21  15.05  14.63  15.2250    13.012284   \n",
      "5   Sample 6   7-Jun-21  12.91  13.89  12.32  14.68  13.4500    11.787445   \n",
      "6   Sample 7   9-Jun-21  17.83  15.19  14.19  15.54  15.6875    13.239209   \n",
      "7   Sample 8  11-Jun-21  15.66  15.24  15.06  13.34  14.8250    13.199692   \n",
      "8   Sample 9  13-Jun-21  14.07  16.90  14.99  15.56  15.3800    13.494775   \n",
      "9  Sample 10  15-Jun-21  15.02  14.30  15.60  13.77  14.6725    13.394798   \n",
      "\n",
      "   upper_bound  includes_overall_mean  \n",
      "0    18.214898                   True  \n",
      "1    16.811828                   True  \n",
      "2    18.954839                   True  \n",
      "3    18.593868                   True  \n",
      "4    17.437716                   True  \n",
      "5    15.112555                  False  \n",
      "6    18.135791                   True  \n",
      "7    16.450308                   True  \n",
      "8    17.265225                   True  \n",
      "9    15.950202                   True  \n"
     ]
    }
   ],
   "source": [
    "directory = os.getcwd()\n",
    "data_directory = os.path.join(directory, 'viscosity_batch_data.csv')\n",
    "data_set = pd.read_csv(data_directory)\n",
    "\n",
    "data_set['mean'] = data_set.iloc[:, 2:6].mean(axis=1)\n",
    "\n",
    "def calculate_batch_ci(row):\n",
    "   \n",
    "    sample = row.iloc[2:6]\n",
    "    n = len(sample)\n",
    "    mean = sample.mean()\n",
    "    std_dev = sample.std(ddof=1)\n",
    "    t_value = t.ppf(1 - 0.05 / 2, df = n - 1)\n",
    "   \n",
    "    margin_of_error = t_value * (std_dev / np.sqrt(n))\n",
    "    lower_bound = mean - margin_of_error\n",
    "    upper_bound = mean + margin_of_error\n",
    "    \n",
    "    return pd.Series([lower_bound, upper_bound])\n",
    "\n",
    "data_set[['lower_bound', 'upper_bound']] = data_set.apply(calculate_batch_ci, axis=1)\n",
    "\n",
    "overall_mean = data_set.iloc[:, 2:6].values.flatten().mean()\n",
    "\n",
    "data_set['includes_overall_mean'] = data_set.apply(\n",
    "    lambda row: row['lower_bound'] <= overall_mean <= row['upper_bound'], \n",
    "    axis=1\n",
    ")\n",
    "\n",
    "print(data_set)"
   ]
  },
  {
   "cell_type": "markdown",
   "id": "79e6d13b",
   "metadata": {},
   "source": [
    "**Part 2: Hypothesis Testing**  \n",
    "\n",
    "A. Your company discharges a chemical into a local river which cannot exceed a value of 15 PPM (parts per million).  A tech just measured 5 values from the production line.  Perform a hypothesis test to predict with 95% certainty that the population mean is below 15 PPM.  \n",
    "\n",
    "[14.35, 13.33, 10.79, 17.10,  15.37]\n"
   ]
  },
  {
   "cell_type": "code",
   "execution_count": 5,
   "id": "d52961b6",
   "metadata": {},
   "outputs": [
    {
     "name": "stdout",
     "output_type": "stream",
     "text": [
      "Sample Mean: 14.19\n",
      "Sample Standard Deviation: 2.36\n",
      "T-Statistic: -0.77\n",
      "Critical T-Value: -2.13\n",
      "Fail to reject the null hypothesis.\n"
     ]
    }
   ],
   "source": [
    "# Sample data\n",
    "sample = [14.35, 13.33, 10.79, 17.10, 15.37]\n",
    "population_mid = 15\n",
    "\n",
    "def hypothesis_test(sample, hyp_mid):\n",
    "# Hypothesized population mean\n",
    "    mu_0 = hyp_mid\n",
    "\n",
    "    # Step 2: Calculate sample mean and standard deviation\n",
    "    sample_mean = np.mean(sample)\n",
    "    sample_std = np.std(sample, ddof=1)  # Use ddof=1 for sample standard deviation\n",
    "    n = len(sample)\n",
    "\n",
    "    # Step 3: Calculate the t-statistic\n",
    "    t_statistic = (sample_mean - mu_0) / (sample_std / np.sqrt(n))\n",
    "\n",
    "    # Step 4: Determine the critical t-value\n",
    "    alpha = 0.05  # Significance level\n",
    "    df = n - 1  # Degrees of freedom\n",
    "    t_critical = t.ppf(alpha, df)  # Left-tailed test\n",
    "\n",
    "    # Step 5: Compare t-statistic to critical t-value\n",
    "    if t_statistic < t_critical:\n",
    "        result = \"Reject the null hypothesis.\"\n",
    "    else:\n",
    "        result = \"Fail to reject the null hypothesis.\"\n",
    "\n",
    "    # Output results\n",
    "    print(f\"Sample Mean: {sample_mean:.2f}\")\n",
    "    print(f\"Sample Standard Deviation: {sample_std:.2f}\")\n",
    "    print(f\"T-Statistic: {t_statistic:.2f}\")\n",
    "    print(f\"Critical T-Value: {t_critical:.2f}\")\n",
    "    print(result)\n",
    "    return None\n",
    "\n",
    "hypothesis_test(sample, population_mid)"
   ]
  },
  {
   "cell_type": "markdown",
   "id": "6a40299a",
   "metadata": {},
   "source": [
    "*We will use a left-tailed t-test to see if our population mean is less than 15ppm. We are using a t-test since we do not know the population standard deviation.*  \n",
    "\n",
    "*Here are the steps:*  \n",
    "1. *Calculate the sample mean and standard deviation.*  \n",
    "2. *Calculate t-value using the sample mean, the standard error of the mean, and the population mean proposed by the null hypothesis.*  \n",
    "3. *Calculate the cumulative probability up to that t-value.*  \n",
    "4. *Compare this cumulative probability to our required level of significance.*  \n",
    "\n",
    "*Calculating the t-value:*\n",
    "$$ t = \\frac{\\bar{x}-\\mu_{0}}{\\frac{s}{\\sqrt{n}}} $$  \n",
    "- $\\bar{x}$ *sample average*\n",
    "- $\\mu_{0}$ *population average*\n"
   ]
  },
  {
   "cell_type": "markdown",
   "id": "8f6e7aa0",
   "metadata": {},
   "source": [
    "B. Your company produces liquid HCl which cannot fall below a value of 0.5 molar.  A tech just measured 5 values from the production line.  Perform a hypothesis test to predict with 95% certainty that the population mean is above 0.5.  \n",
    "\n",
    "[0.5081, 0.5119, 0.5143, 0.5117, 0.5085, 0.5060]"
   ]
  },
  {
   "cell_type": "code",
   "execution_count": 6,
   "id": "9474be4f",
   "metadata": {},
   "outputs": [
    {
     "name": "stdout",
     "output_type": "stream",
     "text": [
      "Sample Mean: 0.51\n",
      "Sample Standard Deviation: 0.00\n",
      "T-Statistic: 8.07\n",
      "Critical T-Value: -2.02\n",
      "Fail to reject the null hypothesis.\n"
     ]
    }
   ],
   "source": [
    "hcl_sample = [0.5081, 0.5119, 0.5143, 0.5117, 0.5085, 0.5060]\n",
    "hcl_mid= 0.5\n",
    "\n",
    "hypothesis_test(hcl_sample, hcl_mid)"
   ]
  },
  {
   "cell_type": "markdown",
   "id": "d1e828b2",
   "metadata": {},
   "source": [
    "**Part 3: Monte Carlo** \n",
    "\n",
    "We want to estimate the variability of the process we looked at in problem 1-C.  Use the mean of all 40 samples as an estimate for the process mean, and the standard deviation of all 40 samples as an estimate for the process standard deviation.  Then write a short Monte Carlo simulation to estimate the variation between batches.  The steps below will guide you through the process.  \n",
    "\n",
    "A. Define variables for the population mean and standard deviation, then write a line of code using Numpy to generate some random measurements.   \n",
    "\n",
    "`sigma * np.random.randn(...) + mu`"
   ]
  },
  {
   "cell_type": "code",
   "execution_count": 7,
   "id": "1d074198",
   "metadata": {},
   "outputs": [
    {
     "name": "stdout",
     "output_type": "stream",
     "text": [
      "Random batch measurements: [16.36406777 12.60643291 16.84899719 14.04496835]\n"
     ]
    }
   ],
   "source": [
    "all_measurements = data_set.iloc[:, 2:6].values.flatten()\n",
    "mu = np.mean(all_measurements)\n",
    "sigma = np.std(all_measurements, ddof=1)\n",
    "\n",
    "# Generate a single batch of 4 random measurements\n",
    "sample_batch = sigma * np.random.randn(4) + mu\n",
    "print(\"Random batch measurements:\", sample_batch)"
   ]
  },
  {
   "cell_type": "markdown",
   "id": "6c7e4cb6",
   "metadata": {},
   "source": [
    "B. Now calculate the average of that sample and store it in an array."
   ]
  },
  {
   "cell_type": "code",
   "execution_count": 8,
   "id": "eed58d14",
   "metadata": {},
   "outputs": [
    {
     "name": "stdout",
     "output_type": "stream",
     "text": [
      "Mean of this batch: 14.966116554383065\n"
     ]
    }
   ],
   "source": [
    "batch_mean = np.mean(sample_batch)\n",
    "batch_means = [batch_mean]\n",
    "print(\"Mean of this batch:\", batch_mean)"
   ]
  },
  {
   "cell_type": "markdown",
   "id": "bea5e9bf",
   "metadata": {},
   "source": [
    "C. Loop around this process to generate many samples and store each average value in the array."
   ]
  },
  {
   "cell_type": "code",
   "execution_count": 9,
   "id": "dd3d872f",
   "metadata": {},
   "outputs": [
    {
     "name": "stdout",
     "output_type": "stream",
     "text": [
      "First 10 simulated batch means: [16.13206204 15.52337659 15.27810297 14.39186459 15.09596571 14.96996786\n",
      " 15.67035738 16.22374549 14.92849672 15.46186572]\n"
     ]
    }
   ],
   "source": [
    "num_batches = 10000\n",
    "batch_size = 4\n",
    "batch_means = []\n",
    "\n",
    "for _ in range(num_batches):\n",
    "    batch = sigma * np.random.randn(batch_size) + mu\n",
    "    batch_means.append(np.mean(batch))\n",
    "\n",
    "batch_means = np.array(batch_means)\n",
    "print(\"First 10 simulated batch means:\", batch_means[:10])"
   ]
  },
  {
   "cell_type": "markdown",
   "id": "3411d151",
   "metadata": {},
   "source": [
    "D. Make a histogram of the averages."
   ]
  },
  {
   "cell_type": "code",
   "execution_count": 10,
   "id": "1cba60be",
   "metadata": {},
   "outputs": [
    {
     "data": {
      "image/png": "[encoded data removed]",
      "text/plain": [
       "<Figure size 640x480 with 1 Axes>"
      ]
     },
     "metadata": {},
     "output_type": "display_data"
    }
   ],
   "source": [
    "plt.hist(batch_means, bins=30, edgecolor='black')\n",
    "plt.title('Histogram of Simulated Batch Means')\n",
    "plt.xlabel('Batch Mean')\n",
    "plt.ylabel('Frequency')\n",
    "plt.show()"
   ]
  },
  {
   "cell_type": "markdown",
   "id": "7ebaad48",
   "metadata": {},
   "source": [
    "E. Run this loop for 10,000 iteration, representing 10,000 batches. "
   ]
  },
  {
   "cell_type": "code",
   "execution_count": 11,
   "id": "17c4e898",
   "metadata": {},
   "outputs": [
    {
     "name": "stdout",
     "output_type": "stream",
     "text": [
      "Simulated 10000 batches of size 4.\n"
     ]
    }
   ],
   "source": [
    "print(f\"Simulated {num_batches} batches of size {batch_size}.\")"
   ]
  },
  {
   "cell_type": "markdown",
   "id": "471d344b",
   "metadata": {},
   "source": [
    "F. Compare the histogram to the confidence intervals calculated in 1-C."
   ]
  },
  {
   "cell_type": "code",
   "execution_count": 12,
   "id": "27d3c839",
   "metadata": {
    "scrolled": true
   },
   "outputs": [
    {
     "data": {
      "image/png": "[encoded data removed]",
      "text/plain": [
       "<Figure size 640x480 with 1 Axes>"
      ]
     },
     "metadata": {},
     "output_type": "display_data"
    },
    {
     "name": "stdout",
     "output_type": "stream",
     "text": [
      "Overall mean: 15.159\n",
      "Typical 95% CI: [12.727, 17.590]\n"
     ]
    }
   ],
   "source": [
    "ci_half_width = t.ppf(0.975, df=3) * sigma / np.sqrt(4)\n",
    "plt.hist(batch_means, bins=30, edgecolor='black', alpha=0.7)\n",
    "plt.axvline(mu, color='red', linestyle='dashed', linewidth=2, label='Overall Mean')\n",
    "plt.axvline(mu - ci_half_width, color='green', linestyle='dotted', linewidth=2, label='95% CI Lower')\n",
    "plt.axvline(mu + ci_half_width, color='green', linestyle='dotted', linewidth=2, label='95% CI Upper')\n",
    "plt.title('Histogram of Batch Means with 95% CI')\n",
    "plt.xlabel('Batch Mean')\n",
    "plt.ylabel('Frequency')\n",
    "plt.legend()\n",
    "plt.show()\n",
    "\n",
    "print(f\"Overall mean: {mu:.3f}\")\n",
    "print(f\"Typical 95% CI: [{mu - ci_half_width:.3f}, {mu + ci_half_width:.3f}]\")"
   ]
  }
 ],
 "metadata": {
  "kernelspec": {
   "display_name": "Python 3",
   "language": "python",
   "name": "python3"
  },
  "language_info": {
   "codemirror_mode": {
    "name": "ipython",
    "version": 3
   },
   "file_extension": ".py",
   "mimetype": "text/x-python",
   "name": "python",
   "nbconvert_exporter": "python",
   "pygments_lexer": "ipython3",
   "version": "3.12.10"
  }
 },
 "nbformat": 4,
 "nbformat_minor": 5
}
