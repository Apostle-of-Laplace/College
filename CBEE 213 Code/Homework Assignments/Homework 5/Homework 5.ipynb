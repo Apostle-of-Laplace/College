{
 "cells": [
  {
   "cell_type": "code",
   "execution_count": 1,
   "id": "6bc3c805",
   "metadata": {},
   "outputs": [],
   "source": [
    "# import notebooks\n",
    "import numpy as np\n",
    "from matplotlib import pyplot as plt\n",
    "import pandas as pd\n",
    "import seaborn as sn\n",
    "import scipy.stats as st\n",
    "from statistics import multimode\n",
    "\n",
    "import statsmodels.api as sm\n",
    "from statsmodels.formula.api import ols\n",
    "from statsmodels.stats.multicomp import pairwise_tukeyhsd"
   ]
  },
  {
   "cell_type": "markdown",
   "id": "067228c7",
   "metadata": {},
   "source": [
    "\n",
    "<br>\n",
    "<center><b style=\"color:black;font-size:40px;\"> Homework 5: ANOVAs </b></center>  \n",
    "<br>\n",
    "\n",
    "**Interpreting p-values**  \n",
    "<br>\n",
    "**Null** hypothesis: $H_{0}: \\bar{x}=\\mu$  \n",
    "**Left** tailed test **alternative** hypothesis: $H_{1}: \\bar{x}<\\mu$  \n",
    "**Right** tailed test **alternative** hypothesis: $H_{1}: \\bar{x}>\\mu$  \n",
    "<br>\n",
    "$p<\\alpha \\rightarrow $ Reject $H_{0}$  \n",
    "$p>\\alpha \\rightarrow$ Fail to reject $H_{0}$\n",
    "\n",
    "\n",
    "\n",
    "# Problem #1:\n",
    "1. Import the file “Biocharcolas.xlsx” you used for the Midterm Project into a Jupyter notebook. Plot the treatment means and standard deviations for the “Grav” variable:\n",
    "  - Note: most boxplots plot quartiles which are NOT means and standard deviations. We recommend using something like the df.plot function in Pandas (described here (Links to an external site.))  \n",
    "  - Feel free to copy relevant set-up code from what you already developed for the Midterm!"
   ]
  },
  {
   "cell_type": "code",
   "execution_count": 2,
   "id": "159034b2",
   "metadata": {},
   "outputs": [],
   "source": []
  },
  {
   "cell_type": "markdown",
   "id": "faacd548",
   "metadata": {},
   "source": [
    "### Using the `groupby()` function as described in the homework assignment:\n",
    "\n",
    "The `df.groupby` function has many useful applications, such as aggregated computations of statistical parameters. The basic structure of code to be used is:  \n",
    "```Python\n",
    "df.groupby(\"col_to_group_by\").agg([func_1, func_2, func_3])\n",
    "```\n",
    "Once the dataframe and the column are chosen, the functions can be decided on:\n",
    "- NumPy:\n",
    "    - Mean: `np.mean`\n",
    "    - Standard deviation: `np.std`\n",
    "- SciPy\n",
    "    - Standard error: `scipy.stats.sem`\n",
    "`df.groupby.agg` can only take a list of functions in as input, so `np.std * 2` cannot be used, however custom functions can be defined.  \n",
    "\n",
    "\n",
    "**Visualization:**  \n",
    "\n",
    "Pandas plotting function is a really useful one-liner: `df.plot`  \n",
    "```Python\n",
    "df.plot(kind=\"barh\", y = \"mean\", legend = False, title = \"Title\")\n",
    "```\n",
    "In this general structure, for a bar chart.\n"
   ]
  },
  {
   "cell_type": "code",
   "execution_count": null,
   "id": "dfdecf0b",
   "metadata": {},
   "outputs": [],
   "source": []
  },
  {
   "cell_type": "markdown",
   "id": "564908a0",
   "metadata": {},
   "source": [
    "# Problem #2:\n",
    "2. Perform a 1-way ANOVA for the factor “Soil” (HINT: check out the `df.dropna()` function)\n",
    "  - Generate your hypotheses\n",
    "  - Calculate the 1-way ANOVA p-value\n",
    "  - In a markdown cell, interpret your findings including what the p-value from an ANOVA can tell you and any conclusions you can make about the factor you measured. With only 2 groups to compare, was a 1-way ANOVA the right test to perform?\n",
    "  \n",
    "\n",
    "From Studio 7:  \n",
    ">  **Verification**  \n",
    "Once you've completed the manual calculations, create a box plot for each of the data sets. You can type the values into a spreadsheet and ssave it as a CSV file, then load it into pandas.  \n",
    "Finally, compare your answer to the answer from `scipy.stats`  \n",
    ">```Python\n",
    "st.f_oneway(df[\"x1\"],df[\"x2\"],df[\"x3\"],df[\"x4\"])\n",
    "```"
   ]
  },
  {
   "cell_type": "code",
   "execution_count": null,
   "id": "b8072a32",
   "metadata": {},
   "outputs": [],
   "source": []
  },
  {
   "cell_type": "markdown",
   "id": "e8455a07",
   "metadata": {},
   "source": [
    "# Problem #3:\n",
    "3. Perform a 1-way ANOVA for the factor “Biochar”\n",
    "  - Generate your hypotheses\n",
    "  - Calculate the 1-way ANOVA p-value\n",
    "  - In a markdown cell, interpret your findings including any conclusions you can make about the factor you measured."
   ]
  },
  {
   "cell_type": "code",
   "execution_count": null,
   "id": "33131a58",
   "metadata": {},
   "outputs": [],
   "source": []
  },
  {
   "cell_type": "markdown",
   "id": "77fbd926",
   "metadata": {},
   "source": [
    "# Problem #4:\n",
    "4. Perform a 2-way ANOVA for the factors “Soil” and “Biochar” with the interaction\n",
    "  - Generate your hypotheses\n",
    "  - Calculate the 2-way ANOVA p-values\n",
    "  - In a markdown cell, interpret your findings including any conclusions you can make about the factors and interaction you measured.\n",
    "  \n",
    "From studio 8:\n",
    ">In this case we need a two-way ANOVA.  We are not going to dive into the math of the two-way ANOVA, but it basically works the same as the one way.  We are ultimately comparing in-group variance to between-group variance.\n",
    ">\n",
    ">The syntax is a little weird.  Just go with it.\n",
    ">\n",
    ">```Python\n",
    "model = ols('height ~ C(water) + C(sun)', data=df).fit()\n",
    "sm.stats.anova_lm(model, typ=2)\n",
    ">```"
   ]
  },
  {
   "cell_type": "code",
   "execution_count": null,
   "id": "d9a239c0",
   "metadata": {},
   "outputs": [],
   "source": []
  },
  {
   "cell_type": "markdown",
   "id": "93a67c51",
   "metadata": {},
   "source": [
    "# Problem #5:\n",
    "5. Perform a Tukey’s HSD posthoc test on your 2-way ANOVA (Hint: first use the df.dropna() function again, but only using the “Grav” column)\n",
    "  - Generate the pair-wise comparison table for a Tukey’s HSD posthoc test (from statsmodels.stats.multicomp import pairwise_tukeyhsd – described here (Links to an external site.))\n",
    "  - In a markdown cell, give an overall interpretation the findings of your posthoc test (please don’t describe every pair-wise comparison!). Are there any trends? Does this visually corroborate with your graph from question 2? Does this reinforce your findings from both 1-way ANOVAs?\n",
    "  - In a markdown cell, describe whether every pair-wise comparison tells you something useful?"
   ]
  },
  {
   "cell_type": "code",
   "execution_count": null,
   "id": "cfcae3a3",
   "metadata": {},
   "outputs": [],
   "source": [
    "# tukey = pairwise_tukeyhsd(endog=df['height'],groups=df['sun'],alpha=0.05)\n",
    "\n",
    "# print(tukey)"
   ]
  },
  {
   "cell_type": "markdown",
   "id": "c156736e",
   "metadata": {},
   "source": [
    "`dropna()` command:\n",
    "```Python\n",
    "DataFrame.dropna(self, axis=0, how='any', thresh=None, subset=None, inplace=False)\n",
    "```\n",
    "**Arguements:**\n",
    "- axis\n",
    "    - 0 to drop rows with missing values\n",
    "    - 1 to drop columns with missing values\n",
    "- how\n",
    "    - 'any': drop is any NAN/missing value is present\n",
    "    - 'all': drop if all the values are missing or NaN\n",
    "- thresh: threshold for NaN values\n",
    "- inplace if 'True' then make changes in the dataplace itself"
   ]
  },
  {
   "cell_type": "markdown",
   "id": "c731c936",
   "metadata": {},
   "source": [
    "# Extra Credit: \n",
    " - Extra Credit: Perform a Multifactorial ANOVA for the factors “Soil”, “Biochar”, and “day” (use the same syntax for a 2-way ANOVA but add a factor) for the variable “Grav”.\n",
    "  - Generate your hypotheses\n",
    "  - Calculate the Multifactorial ANOVA p-values\n",
    "  - In a markdown cell, interpret your findings including any conclusions you can make about the factors and interaction you measured."
   ]
  },
  {
   "cell_type": "code",
   "execution_count": null,
   "id": "28dc0c25",
   "metadata": {},
   "outputs": [],
   "source": []
  }
 ],
 "metadata": {
  "kernelspec": {
   "display_name": "Python 3 (ipykernel)",
   "language": "python",
   "name": "python3"
  },
  "language_info": {
   "codemirror_mode": {
    "name": "ipython",
    "version": 3
   },
   "file_extension": ".py",
   "mimetype": "text/x-python",
   "name": "python",
   "nbconvert_exporter": "python",
   "pygments_lexer": "ipython3",
   "version": "3.11.7"
  }
 },
 "nbformat": 4,
 "nbformat_minor": 5
}
